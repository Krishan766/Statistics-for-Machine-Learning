{
 "cells": [
  {
   "cell_type": "markdown",
   "id": "096a26fb",
   "metadata": {
    "id": "096a26fb"
   },
   "source": [
    "<table align=\"left\" width=100%>\n",
    "    <tr>\n",
    "        <td width=\"20%\">\n",
    "            <img src=\"GL-2.png\">\n",
    "        </td>\n",
    "        <td>\n",
    "            <div align=\"center\">\n",
    "                <font color=\"#21618C\" size=8px>\n",
    "                  <b> Faculty Notebook <br> ( Day 4) </b>\n",
    "                </font>\n",
    "            </div>\n",
    "        </td>\n",
    "    </tr>\n",
    "</table>"
   ]
  },
  {
   "cell_type": "markdown",
   "id": "a66606fa",
   "metadata": {
    "id": "a66606fa"
   },
   "source": [
    "## Table of Content\n",
    "\n",
    "1. **[Import Libraries](#lib)**\n",
    "2. **[Z Proportion Test](#prop)**\n",
    "    - 2.1 - **[Two Sample Test](#2_p)**\n",
    "3. **[Chi-Square Test](#chisq)**\n",
    "    - 3.1 - **[Chi-Square Test for Goodness of Fit](#goodness)**\n",
    "    - 3.2 - **[Chi-Square Test for Independence](#ind)**"
   ]
  },
  {
   "cell_type": "markdown",
   "id": "f9f330ad",
   "metadata": {
    "id": "f9f330ad"
   },
   "source": [
    "<a id=\"lib\"></a>\n",
    "# 1. Import Libraries"
   ]
  },
  {
   "cell_type": "markdown",
   "id": "a42a4706",
   "metadata": {
    "id": "a42a4706"
   },
   "source": [
    "**Let us import the required libraries.**"
   ]
  },
  {
   "cell_type": "code",
   "execution_count": 1,
   "id": "79574235",
   "metadata": {
    "id": "79574235"
   },
   "outputs": [],
   "source": [
    "# import 'pandas' \n",
    "import pandas as pd \n",
    "\n",
    "# import 'numpy' \n",
    "import numpy as np\n",
    "\n",
    "# import subpackage of matplotlib\n",
    "import matplotlib.pyplot as plt\n",
    "\n",
    "# import 'seaborn'\n",
    "import seaborn as sns\n",
    "\n",
    "# to suppress warnings \n",
    "from warnings import filterwarnings\n",
    "filterwarnings('ignore')\n",
    "\n",
    "import scipy.stats as stats\n",
    "from statsmodels.stats import weightstats as wstats\n",
    "\n",
    "import statsmodels.api as sma"
   ]
  },
  {
   "cell_type": "code",
   "execution_count": 2,
   "id": "2b5387d7",
   "metadata": {
    "id": "2b5387d7"
   },
   "outputs": [],
   "source": [
    "# set the plot size using 'rcParams'\n",
    "# once the plot size is set using 'rcParams', it sets the size of all the forthcoming plots in the file\n",
    "# pass width and height in inches to 'figure.figsize' \n",
    "plt.rcParams['figure.figsize'] = [15,8]"
   ]
  },
  {
   "cell_type": "markdown",
   "id": "cbb57e7e",
   "metadata": {
    "id": "cbb57e7e"
   },
   "source": [
    "<a id=\"prop\"></a>\n",
    "# 2. Z Proportion Test"
   ]
  },
  {
   "cell_type": "markdown",
   "id": "2c22743a",
   "metadata": {
    "id": "2c22743a"
   },
   "source": [
    "<a id=\"2_p\"></a>\n",
    "## 2.1 Two Sample Test"
   ]
  },
  {
   "cell_type": "markdown",
   "id": "8da04be3",
   "metadata": {
    "id": "8da04be3"
   },
   "source": [
    "Perform two sample Z test for the population proportion. We check the equality of population proportions $P_{1}$ and $P_{2}$.\n",
    "\n",
    "The null and alternative hypothesis is given as:\n",
    "\n",
    "<p style='text-indent:25em'> <strong> $H_{0}: P_{1} - P_{2} = P_{0}$ or $P_{1} - P_{2} \\geq P_{0}$ or $P_{1} - P_{2} \\leq P_{0}$</strong></p>\n",
    "<p style='text-indent:25em'> <strong> $H_{1}: P_{1} - P_{2} \\neq P_{0}$ or $P_{1} - P_{2} < P_{0}$ or $P_{1} - P_{2} > P_{0}$</strong></p>"
   ]
  },
  {
   "cell_type": "markdown",
   "id": "f679065d",
   "metadata": {
    "id": "f679065d"
   },
   "source": [
    "The test statistic for two sample proportion Z-test is given as:\n",
    "<p style='text-indent:25em'> <strong> $Z = \\frac{(p_{1} -  p_{2}) - P_{0}}{\\sqrt{\\bar{P}(1-\\bar{P})(\\frac{1}{n_{1}} + \\frac{1}{n_{2}})}}$   $\\hspace{2 cm} \\bar{P} = \\frac{n_{1}p_{1} + n_{2}p_{2}}{n_{1} + n_{2}}$ </strong></p>\n",
    "\n",
    "Where, <br>\n",
    "$p_{1}, p_{2}$: Samples proportions<br>\n",
    "$P_{0}$: Hypothesized proportion<br>\n",
    "$\\bar{P}$: Proportion of pooled sample<br>\n",
    "$n_{1}, n_{2}$: Samples sizes"
   ]
  },
  {
   "cell_type": "markdown",
   "id": "43304a9a",
   "metadata": {
    "id": "43304a9a"
   },
   "source": [
    "### Example:\n",
    "\n",
    "#### 1. A team of nutritionists believes that each institute provides 'standard' lunch to an equal proportion of students. A sample of students from institutes <i>Nature Learning</i> and <i>Speak Global Learning</i> is given. Consider the null hypothesis as equality of proportion with 0.1 level of significance.\n",
    "\n",
    "Consider the sample data available in the CSV file `StudentsPerformance.csv`."
   ]
  },
  {
   "cell_type": "code",
   "execution_count": 4,
   "id": "0567d9cc",
   "metadata": {
    "id": "0567d9cc",
    "outputId": "2ff2cc81-91db-4cee-c5cf-28587e38f078",
    "scrolled": false
   },
   "outputs": [
    {
     "data": {
      "text/html": [
       "<div>\n",
       "<style scoped>\n",
       "    .dataframe tbody tr th:only-of-type {\n",
       "        vertical-align: middle;\n",
       "    }\n",
       "\n",
       "    .dataframe tbody tr th {\n",
       "        vertical-align: top;\n",
       "    }\n",
       "\n",
       "    .dataframe thead th {\n",
       "        text-align: right;\n",
       "    }\n",
       "</style>\n",
       "<table border=\"1\" class=\"dataframe\">\n",
       "  <thead>\n",
       "    <tr style=\"text-align: right;\">\n",
       "      <th></th>\n",
       "      <th>gender</th>\n",
       "      <th>race/ethnicity</th>\n",
       "      <th>lunch</th>\n",
       "      <th>test preparation course</th>\n",
       "      <th>math score</th>\n",
       "      <th>reading score</th>\n",
       "      <th>writing score</th>\n",
       "      <th>total score</th>\n",
       "      <th>training institute</th>\n",
       "    </tr>\n",
       "  </thead>\n",
       "  <tbody>\n",
       "    <tr>\n",
       "      <th>0</th>\n",
       "      <td>female</td>\n",
       "      <td>group B</td>\n",
       "      <td>standard</td>\n",
       "      <td>none</td>\n",
       "      <td>89</td>\n",
       "      <td>55</td>\n",
       "      <td>56</td>\n",
       "      <td>200</td>\n",
       "      <td>Nature Learning</td>\n",
       "    </tr>\n",
       "    <tr>\n",
       "      <th>1</th>\n",
       "      <td>female</td>\n",
       "      <td>group C</td>\n",
       "      <td>standard</td>\n",
       "      <td>completed</td>\n",
       "      <td>55</td>\n",
       "      <td>63</td>\n",
       "      <td>72</td>\n",
       "      <td>190</td>\n",
       "      <td>Nature Learning</td>\n",
       "    </tr>\n",
       "  </tbody>\n",
       "</table>\n",
       "</div>"
      ],
      "text/plain": [
       "   gender race/ethnicity     lunch test preparation course  math score  \\\n",
       "0  female        group B  standard                    none          89   \n",
       "1  female        group C  standard               completed          55   \n",
       "\n",
       "   reading score  writing score  total score training institute  \n",
       "0             55             56          200    Nature Learning  \n",
       "1             63             72          190    Nature Learning  "
      ]
     },
     "execution_count": 4,
     "metadata": {},
     "output_type": "execute_result"
    }
   ],
   "source": [
    "# read the students performance data \n",
    "df_student = pd.read_csv('StudentsPerformance (2).csv')\n",
    "\n",
    "# display the first two observations\n",
    "df_student.head(2)"
   ]
  },
  {
   "cell_type": "code",
   "execution_count": 63,
   "id": "8ade002f",
   "metadata": {
    "id": "8ade002f",
    "outputId": "2faf6302-3112-4d79-8982-9e1ee80e2fc7"
   },
   "outputs": [
    {
     "data": {
      "text/plain": [
       "array(['Nature Learning', 'Speak Global Learning'], dtype=object)"
      ]
     },
     "execution_count": 63,
     "metadata": {},
     "output_type": "execute_result"
    }
   ],
   "source": [
    "# get the training institutes in the dataframe\n",
    "df_student['training institute'].unique()"
   ]
  },
  {
   "cell_type": "code",
   "execution_count": 64,
   "id": "9500eece",
   "metadata": {},
   "outputs": [
    {
     "data": {
      "text/plain": [
       "array(['standard', 'free/reduced'], dtype=object)"
      ]
     },
     "execution_count": 64,
     "metadata": {},
     "output_type": "execute_result"
    }
   ],
   "source": [
    "df_student['lunch'].unique()"
   ]
  },
  {
   "cell_type": "markdown",
   "id": "4e49823e",
   "metadata": {
    "id": "4e49823e"
   },
   "source": [
    "The dataset contains the information about the students from two different institutes."
   ]
  },
  {
   "cell_type": "code",
   "execution_count": 112,
   "id": "68792820",
   "metadata": {},
   "outputs": [],
   "source": [
    "# Sample proportion\n",
    "\n",
    "# Count of lunch for Nature Learning\n",
    "nl_lunch=df_student.loc[(df_student['training institute']=='Nature Learning')&\n",
    "                        (df_student['lunch']=='standard')].shape[0]"
   ]
  },
  {
   "cell_type": "code",
   "execution_count": 114,
   "id": "64eab35a",
   "metadata": {},
   "outputs": [],
   "source": [
    "# Count of lunch for Nature Learning\n",
    "sgl_lunch=df_student.loc[(df_student['training institute']=='Speak Global Learning')&\n",
    "                         (df_student['lunch']=='standard')].shape[0]"
   ]
  },
  {
   "cell_type": "code",
   "execution_count": 115,
   "id": "c61cb672",
   "metadata": {},
   "outputs": [],
   "source": [
    "# Count of nature learnig\n",
    "nl=df_student.loc[df_student['training institute']=='Nature Learning'].shape[0]\n",
    "sgl=df_student.loc[df_student['training institute']=='Speak Global Learning'].shape[0]"
   ]
  },
  {
   "cell_type": "code",
   "execution_count": 120,
   "id": "3941a8f1",
   "metadata": {},
   "outputs": [
    {
     "data": {
      "text/plain": [
       "(0.7935300106078008, 0.4274690915859791)"
      ]
     },
     "execution_count": 120,
     "metadata": {},
     "output_type": "execute_result"
    }
   ],
   "source": [
    "# Import the required library\n",
    "import statsmodels.api as sma\n",
    "sma.stats.proportions_ztest(count=np.array([nl_lunch,sgl_lunch]),nobs=np.array([nl,sgl]))"
   ]
  },
  {
   "cell_type": "markdown",
   "id": "5d4528ff",
   "metadata": {
    "id": "5d4528ff"
   },
   "source": [
    "Here the z-score is less than 1.64, the p-value is greater than 0.1, also the confidence interval contains the value in the null hypothesis (i.e. 0). Thus, we fail to reject (i.e. accept) the null hypothesis and we do not have enough evidence to conclude that the proportion of students with standard lunch is different."
   ]
  },
  {
   "cell_type": "markdown",
   "id": "a2692461",
   "metadata": {
    "id": "a2692461"
   },
   "source": [
    "#### 2. Steve owns a kiosk where he sells two magazines - A and B in a month. He buys 100 copies of magazine A out of which 78 were sold and 70 copies of magazine B out of which 65 were sold. Is there enough evidence to say that magazine is B is more popular? Test the claim using p-value technique with α = 0.05."
   ]
  },
  {
   "cell_type": "markdown",
   "id": "0e7815e5",
   "metadata": {
    "id": "0e7815e5"
   },
   "source": [
    "The null and alternative hypothesis is:\n",
    "\n",
    "H<sub>0</sub>: Prop_A=Prop_B (Both the Magazines are Equally Popular)<br> \n",
    "H<sub>1</sub>: Prop_B- Prop_A>0 (Magazine B is more Popular)"
   ]
  },
  {
   "cell_type": "code",
   "execution_count": 121,
   "id": "5e6291e8",
   "metadata": {
    "id": "5e6291e8",
    "outputId": "7250c9c6-e7fd-4dc8-aa1e-f09380b4ce50"
   },
   "outputs": [],
   "source": [
    "mag_a=100\n",
    "mag_a_sold=78\n",
    "mag_b=70\n",
    "mag_b_sold=65"
   ]
  },
  {
   "cell_type": "code",
   "execution_count": 124,
   "id": "ec6d24c7",
   "metadata": {},
   "outputs": [
    {
     "data": {
      "text/plain": [
       "(-2.60830803458311, 0.9954504483994527)"
      ]
     },
     "execution_count": 124,
     "metadata": {},
     "output_type": "execute_result"
    }
   ],
   "source": [
    "sma.stats.proportions_ztest(count=np.array([mag_a_sold,mag_b_sold]),\n",
    "                            nobs=np.array([mag_a,mag_b]),alternative='larger')"
   ]
  },
  {
   "cell_type": "markdown",
   "id": "9e9c7827",
   "metadata": {
    "id": "9e9c7827"
   },
   "source": [
    "<a id=\"chisq\"></a>\n",
    "# 3. Chi-Square Test"
   ]
  },
  {
   "cell_type": "markdown",
   "id": "a0a48ddd",
   "metadata": {
    "id": "a0a48ddd"
   },
   "source": [
    "It is a non-parametric test. `Non-parametric tests` do not require any assumptions on the parameter of the population from which the sample is taken. These tests can be applied to the ordinal/ nominal data. A non-parametric test can be performed on the data containing outliers.\n",
    "\n",
    "The chi-square test statistic follows a Chi-square ($\\chi^{2}$) distribution under the null hypothesis. It can be used to check the relationship between the categorical variables. "
   ]
  },
  {
   "cell_type": "markdown",
   "id": "4f8bee95",
   "metadata": {
    "id": "4f8bee95"
   },
   "source": [
    "<a id=\"goodness\"></a>\n",
    "## 3.1 Chi-Square Test for Goodness of Fit"
   ]
  },
  {
   "cell_type": "markdown",
   "id": "dbee8fb0",
   "metadata": {
    "id": "dbee8fb0"
   },
   "source": [
    "This test is used to compare the distribution of the categorical data with the expected distribution. \n",
    "\n",
    "<p style='text-indent:6em'> <strong> $H_{0}$: There is no significant difference between the observed and expected frequencies from the expected distribution</strong></p>\n",
    "<p style='text-indent:6em'> <strong> $H_{1}$: There is a significant difference between the observed and expected frequencies from the expected distribution</strong></p>"
   ]
  },
  {
   "cell_type": "markdown",
   "id": "30bc2315",
   "metadata": {
    "id": "30bc2315"
   },
   "source": [
    "The test statistic is given as:\n",
    "<p style='text-indent:25em'> <strong> $\\chi^{2} = \\sum_{i = 1}^{k}\\frac{O_{i}^{2}}{E_{i}} - N$</strong></p>\n",
    "\n",
    "Where, <br>\n",
    "$O_{i}$: Observed frequency for category i <br>\n",
    "$E_{i}$: Expected frequency for category i<br>\n",
    "$N$: Total number of observations\n",
    "\n",
    "Under $H_{0}$, the test statistic follows a chi-square distribution with $(k - p - 1)$ degrees of freedom, where k is the number class frequencies and p is the number of estimated parameters. \n",
    "\n",
    "**Note:** All the expected frequencies should be greater than or equal to 5. If not, add the classes such that each class will have a frequency greater than or equal to 5."
   ]
  },
  {
   "cell_type": "markdown",
   "id": "f9295b2c",
   "metadata": {},
   "source": [
    "A bank has an ATM installed inside the bank, and it is available to its customers only from 7 am to 6 pm Monday through Friday. The manager of the bank wanted to investigate if the number of people who use this ATM is the same for each of the 5 days (Monday through Friday) of the week. She randomly selected one week and counted the number of people who used this ATM on each of the 5 days during that week.\n",
    "\n",
    "At a 1% level of significance, can we reject the null hypothesis that the number of people who use this ATM each of the 5 days of the week is the same?\n",
    "\n",
    "* **Ho: That the Count of People is Same Across All Days**\n",
    "* **Ha: That the Count of People is Not Same Across All Days**"
   ]
  },
  {
   "cell_type": "code",
   "execution_count": 5,
   "id": "f7483807",
   "metadata": {
    "id": "f7483807",
    "outputId": "061f8d83-5c76-4cd4-b229-a8ebacf2010c",
    "scrolled": false
   },
   "outputs": [],
   "source": [
    "days=['Mon','Tue','Wed','Thu','Fri']\n",
    "count=[253,197,204,279,267] # Observed value"
   ]
  },
  {
   "cell_type": "code",
   "execution_count": 8,
   "id": "61583c5a",
   "metadata": {},
   "outputs": [
    {
     "data": {
      "text/plain": [
       "13.276704135987625"
      ]
     },
     "execution_count": 8,
     "metadata": {},
     "output_type": "execute_result"
    }
   ],
   "source": [
    "# Find the Critical Value\n",
    "# since it is 5 days so defree if freedom = n-1=5-1=4\n",
    "stats.chi2.isf(0.01,4)"
   ]
  },
  {
   "cell_type": "code",
   "execution_count": 10,
   "id": "13cd02f3",
   "metadata": {
    "id": "13cd02f3",
    "outputId": "b425de11-ab87-4dcc-e1c9-41fe943c8b24"
   },
   "outputs": [
    {
     "data": {
      "text/plain": [
       "23.183333333333334"
      ]
     },
     "execution_count": 10,
     "metadata": {},
     "output_type": "execute_result"
    }
   ],
   "source": [
    "# Expected\n",
    "exp=np.mean(count)\n",
    "\n",
    "# Find the Test Stats & Compare\n",
    "num=np.sum((count-exp)**2)\n",
    "teststats=num/exp\n",
    "teststats"
   ]
  },
  {
   "cell_type": "code",
   "execution_count": 11,
   "id": "db3f0a75",
   "metadata": {},
   "outputs": [
    {
     "data": {
      "text/plain": [
       "0.00011638214275699887"
      ]
     },
     "execution_count": 11,
     "metadata": {},
     "output_type": "execute_result"
    }
   ],
   "source": [
    "# Remember that the chi square test is always a right tail test...\n",
    "# Because the chi square distt values are from 0 to n...\n",
    "#p-value\n",
    "1-stats.chi2.cdf(teststats,df=len(count)-1)"
   ]
  },
  {
   "cell_type": "markdown",
   "id": "7b343ecd",
   "metadata": {
    "id": "7b343ecd"
   },
   "source": [
    "#### 2. At an emporium, the manager is interested in knowing the age group which visits the mall during the day. He defines categories as - children, teenagers, adults and senior citizens. He plans to have his inventory of goods accordingly. He claims that out of all the people who visited 5% are children, 38% are teenagers, 2% are senior citizens are remaining are adults. From a sample of 180 people, it was seen that 25 were children, 50 were teenagers, 90 were adults and  15 were senior citizens. Test the manager’s claim at a 95% confidence level.\n"
   ]
  },
  {
   "cell_type": "markdown",
   "id": "389e1cc1",
   "metadata": {
    "id": "389e1cc1"
   },
   "source": [
    "The null and alternative hypothesis is:\n",
    "\n",
    "H<sub>0</sub>: The manager's claim is correct <br>\n",
    "H<sub>1</sub>: The manager's claim is not correct"
   ]
  },
  {
   "cell_type": "markdown",
   "id": "4e72c848",
   "metadata": {
    "id": "4e72c848"
   },
   "source": [
    "For ⍺ = 0.05 and degrees of freedom = 3, calculate the critical value."
   ]
  },
  {
   "cell_type": "code",
   "execution_count": 23,
   "id": "29376252",
   "metadata": {},
   "outputs": [],
   "source": [
    "cat=['children','teenagers','adults','senior citizens']\n",
    "ratio=[0.05,0.38,0.02,0.55]\n",
    "obs=[25,50,90,15]\n",
    "n=180"
   ]
  },
  {
   "cell_type": "code",
   "execution_count": 34,
   "id": "f038ea2d",
   "metadata": {},
   "outputs": [
    {
     "data": {
      "text/plain": [
       "array([ 9. , 68.4,  3.6, 99. ])"
      ]
     },
     "execution_count": 34,
     "metadata": {},
     "output_type": "execute_result"
    }
   ],
   "source": [
    "# Expected ratio\n",
    "exp=n*np.array(ratio)\n",
    "exp"
   ]
  },
  {
   "cell_type": "code",
   "execution_count": 35,
   "id": "dc677ff3",
   "metadata": {
    "id": "dc677ff3",
    "outputId": "e9ce30c2-f526-44b8-c120-a5c93818978d"
   },
   "outputs": [
    {
     "data": {
      "text/plain": [
       "7.814727903251178"
      ]
     },
     "execution_count": 35,
     "metadata": {},
     "output_type": "execute_result"
    }
   ],
   "source": [
    "# Calculate the Critical Value...\n",
    "stats.chi2.isf(0.05,df=3)"
   ]
  },
  {
   "cell_type": "code",
   "execution_count": 43,
   "id": "8df634ee",
   "metadata": {
    "id": "8df634ee",
    "outputId": "55f63ce9-9e38-4b10-ab3a-50c8e9120bdf",
    "scrolled": true
   },
   "outputs": [
    {
     "data": {
      "text/plain": [
       "2178.2668793195116"
      ]
     },
     "execution_count": 43,
     "metadata": {},
     "output_type": "execute_result"
    }
   ],
   "source": [
    "# Calculate the Test Statistic\n",
    "num=(obs-exp)**2\n",
    "teststats=num/exp\n",
    "sum(teststats)"
   ]
  },
  {
   "cell_type": "code",
   "execution_count": 44,
   "id": "88c6d3fa",
   "metadata": {},
   "outputs": [
    {
     "data": {
      "text/plain": [
       "Power_divergenceResult(statistic=2178.2668793195116, pvalue=0.0)"
      ]
     },
     "execution_count": 44,
     "metadata": {},
     "output_type": "execute_result"
    }
   ],
   "source": [
    "stats.chisquare(obs,exp)"
   ]
  },
  {
   "cell_type": "code",
   "execution_count": 45,
   "id": "d3c70dc7",
   "metadata": {},
   "outputs": [
    {
     "data": {
      "text/plain": [
       "0.0"
      ]
     },
     "execution_count": 45,
     "metadata": {},
     "output_type": "execute_result"
    }
   ],
   "source": [
    "# p-value\n",
    "1-stats.chi2.cdf(sum(teststats),df=len(obs)-1)"
   ]
  },
  {
   "cell_type": "markdown",
   "id": "dcb2e1a7",
   "metadata": {
    "id": "dcb2e1a7"
   },
   "source": [
    "<a id=\"ind\"></a>\n",
    "## 3.2 Chi-Square Test for Independence"
   ]
  },
  {
   "cell_type": "markdown",
   "id": "49259d5b",
   "metadata": {
    "id": "49259d5b"
   },
   "source": [
    "This test is used to test whether the categorical variables are independent or not.\n",
    "\n",
    "<p style='text-indent:20em'> <strong> $H_{0}$: The variables are independent</strong></p>\n",
    "<p style='text-indent:20em'> <strong> $H_{1}$: The variables are not independent (i.e. variables are dependent)</strong></p>"
   ]
  },
  {
   "cell_type": "markdown",
   "id": "7668b7ee",
   "metadata": {
    "id": "7668b7ee"
   },
   "source": [
    "Consider a categorical variable `A` with `r` levels and variable `B` with `c` levels. Let us test the independence of variables A and B.\n",
    "\n",
    "The test statistic is given as:\n",
    "<p style='text-indent:25em'> <strong> $\\chi^{2} = \\sum_{i= 1}^{r}\\sum_{j = 1}^{c}\\frac{O_{ij}^{2}}{E_{ij}} - N$</strong></p>\n",
    "\n",
    "Where, <br>\n",
    "$O_{ij}$: Observed frequency for category (i,j) <br>\n",
    "$E_{ij}$: Expected frequency for category (i,j)<br>\n",
    "$N$: Total number of observations\n",
    "\n",
    "Under $H_{0}$, the test statistic follows a chi-square distribution with $(r-1)(c-1)$ degrees of freedom."
   ]
  },
  {
   "cell_type": "markdown",
   "id": "6dedf0f5",
   "metadata": {
    "id": "6dedf0f5"
   },
   "source": [
    "### Example:\n",
    "\n",
    "#### 1. Check if there is any relationship between the gender and education level of students with 95% confidence. \n",
    "\n",
    "Use the performance dataset of students available in the CSV file `students_data.csv`."
   ]
  },
  {
   "cell_type": "code",
   "execution_count": 47,
   "id": "2b3ec8dd",
   "metadata": {
    "id": "2b3ec8dd",
    "outputId": "e44171cd-4247-40f9-aa8b-c766ffb980bc",
    "scrolled": false
   },
   "outputs": [
    {
     "data": {
      "text/html": [
       "<div>\n",
       "<style scoped>\n",
       "    .dataframe tbody tr th:only-of-type {\n",
       "        vertical-align: middle;\n",
       "    }\n",
       "\n",
       "    .dataframe tbody tr th {\n",
       "        vertical-align: top;\n",
       "    }\n",
       "\n",
       "    .dataframe thead th {\n",
       "        text-align: right;\n",
       "    }\n",
       "</style>\n",
       "<table border=\"1\" class=\"dataframe\">\n",
       "  <thead>\n",
       "    <tr style=\"text-align: right;\">\n",
       "      <th></th>\n",
       "      <th>gender</th>\n",
       "      <th>race/ethnicity</th>\n",
       "      <th>lunch</th>\n",
       "      <th>test preparation course</th>\n",
       "      <th>math score</th>\n",
       "      <th>reading score</th>\n",
       "      <th>writing score</th>\n",
       "      <th>total score</th>\n",
       "      <th>training institute</th>\n",
       "    </tr>\n",
       "  </thead>\n",
       "  <tbody>\n",
       "    <tr>\n",
       "      <th>0</th>\n",
       "      <td>female</td>\n",
       "      <td>group B</td>\n",
       "      <td>standard</td>\n",
       "      <td>none</td>\n",
       "      <td>89</td>\n",
       "      <td>55</td>\n",
       "      <td>56</td>\n",
       "      <td>200</td>\n",
       "      <td>Nature Learning</td>\n",
       "    </tr>\n",
       "    <tr>\n",
       "      <th>1</th>\n",
       "      <td>female</td>\n",
       "      <td>group C</td>\n",
       "      <td>standard</td>\n",
       "      <td>completed</td>\n",
       "      <td>55</td>\n",
       "      <td>63</td>\n",
       "      <td>72</td>\n",
       "      <td>190</td>\n",
       "      <td>Nature Learning</td>\n",
       "    </tr>\n",
       "  </tbody>\n",
       "</table>\n",
       "</div>"
      ],
      "text/plain": [
       "   gender race/ethnicity     lunch test preparation course  math score  \\\n",
       "0  female        group B  standard                    none          89   \n",
       "1  female        group C  standard               completed          55   \n",
       "\n",
       "   reading score  writing score  total score training institute  \n",
       "0             55             56          200    Nature Learning  \n",
       "1             63             72          190    Nature Learning  "
      ]
     },
     "execution_count": 47,
     "metadata": {},
     "output_type": "execute_result"
    }
   ],
   "source": [
    "# read the students performance data \n",
    "df_student = pd.read_csv('StudentsPerformance (2).csv')\n",
    "\n",
    "# display the first two observations\n",
    "df_student.head(2)"
   ]
  },
  {
   "cell_type": "markdown",
   "id": "a64c2404",
   "metadata": {
    "id": "a64c2404"
   },
   "source": [
    "The null and alternative hypothesis is:\n",
    "\n",
    "H<sub>0</sub>: The variables gender and race/ethnicity are independent<br>\n",
    "H<sub>1</sub>: The variables gender and race/ethnicity are not independent"
   ]
  },
  {
   "cell_type": "code",
   "execution_count": 48,
   "id": "82833d49",
   "metadata": {
    "id": "82833d49",
    "outputId": "06065cfe-8c7f-42aa-9b5a-c243b8c3ff32"
   },
   "outputs": [
    {
     "data": {
      "text/plain": [
       "array(['female', 'male'], dtype=object)"
      ]
     },
     "execution_count": 48,
     "metadata": {},
     "output_type": "execute_result"
    }
   ],
   "source": [
    "df_student['gender'].unique()"
   ]
  },
  {
   "cell_type": "code",
   "execution_count": 51,
   "id": "582e4730",
   "metadata": {
    "id": "582e4730",
    "outputId": "02276cda-1b6e-4934-c726-cf052021df06",
    "scrolled": true
   },
   "outputs": [
    {
     "data": {
      "text/html": [
       "<div>\n",
       "<style scoped>\n",
       "    .dataframe tbody tr th:only-of-type {\n",
       "        vertical-align: middle;\n",
       "    }\n",
       "\n",
       "    .dataframe tbody tr th {\n",
       "        vertical-align: top;\n",
       "    }\n",
       "\n",
       "    .dataframe thead th {\n",
       "        text-align: right;\n",
       "    }\n",
       "</style>\n",
       "<table border=\"1\" class=\"dataframe\">\n",
       "  <thead>\n",
       "    <tr style=\"text-align: right;\">\n",
       "      <th>race/ethnicity</th>\n",
       "      <th>group A</th>\n",
       "      <th>group B</th>\n",
       "      <th>group C</th>\n",
       "      <th>group D</th>\n",
       "      <th>group E</th>\n",
       "    </tr>\n",
       "    <tr>\n",
       "      <th>gender</th>\n",
       "      <th></th>\n",
       "      <th></th>\n",
       "      <th></th>\n",
       "      <th></th>\n",
       "      <th></th>\n",
       "    </tr>\n",
       "  </thead>\n",
       "  <tbody>\n",
       "    <tr>\n",
       "      <th>female</th>\n",
       "      <td>36</td>\n",
       "      <td>104</td>\n",
       "      <td>180</td>\n",
       "      <td>128</td>\n",
       "      <td>69</td>\n",
       "    </tr>\n",
       "    <tr>\n",
       "      <th>male</th>\n",
       "      <td>54</td>\n",
       "      <td>86</td>\n",
       "      <td>139</td>\n",
       "      <td>133</td>\n",
       "      <td>71</td>\n",
       "    </tr>\n",
       "  </tbody>\n",
       "</table>\n",
       "</div>"
      ],
      "text/plain": [
       "race/ethnicity  group A  group B  group C  group D  group E\n",
       "gender                                                     \n",
       "female               36      104      180      128       69\n",
       "male                 54       86      139      133       71"
      ]
     },
     "execution_count": 51,
     "metadata": {},
     "output_type": "execute_result"
    }
   ],
   "source": [
    "# Generate a contigency table\n",
    "tb1=pd.crosstab(df_student['gender'],df_student['race/ethnicity'])\n",
    "tb1"
   ]
  },
  {
   "cell_type": "code",
   "execution_count": 55,
   "id": "2a865431",
   "metadata": {},
   "outputs": [
    {
     "name": "stdout",
     "output_type": "stream",
     "text": [
      "Teststats 9.554257224920228\n",
      "p-value 0.048644241994791254\n"
     ]
    }
   ],
   "source": [
    "# Chi square test\n",
    "teststats, pvalue, df, exp_freq=stats.chi2_contingency(tb1)\n",
    "print('Teststats',teststats)\n",
    "print('p-value',pvalue)"
   ]
  },
  {
   "cell_type": "code",
   "execution_count": null,
   "id": "2d8167b1",
   "metadata": {},
   "outputs": [],
   "source": []
  },
  {
   "cell_type": "markdown",
   "id": "f44e3a0e",
   "metadata": {},
   "source": [
    "### Titanic Dataset\n",
    "\n",
    "* Deal with the Missing Values \n",
    "* Manipulate Deck to remove the missing values\n",
    "* See if you can create new features\n",
    "* Perform Hypothesis Testing on the Dataset"
   ]
  },
  {
   "cell_type": "code",
   "execution_count": 23,
   "id": "fc0ac1ca",
   "metadata": {},
   "outputs": [
    {
     "data": {
      "text/html": [
       "<div>\n",
       "<style scoped>\n",
       "    .dataframe tbody tr th:only-of-type {\n",
       "        vertical-align: middle;\n",
       "    }\n",
       "\n",
       "    .dataframe tbody tr th {\n",
       "        vertical-align: top;\n",
       "    }\n",
       "\n",
       "    .dataframe thead th {\n",
       "        text-align: right;\n",
       "    }\n",
       "</style>\n",
       "<table border=\"1\" class=\"dataframe\">\n",
       "  <thead>\n",
       "    <tr style=\"text-align: right;\">\n",
       "      <th></th>\n",
       "      <th>survived</th>\n",
       "      <th>pclass</th>\n",
       "      <th>sex</th>\n",
       "      <th>age</th>\n",
       "      <th>sibsp</th>\n",
       "      <th>parch</th>\n",
       "      <th>fare</th>\n",
       "      <th>embarked</th>\n",
       "      <th>class</th>\n",
       "      <th>who</th>\n",
       "      <th>adult_male</th>\n",
       "      <th>deck</th>\n",
       "      <th>embark_town</th>\n",
       "      <th>alive</th>\n",
       "      <th>alone</th>\n",
       "    </tr>\n",
       "  </thead>\n",
       "  <tbody>\n",
       "    <tr>\n",
       "      <th>0</th>\n",
       "      <td>0</td>\n",
       "      <td>3</td>\n",
       "      <td>male</td>\n",
       "      <td>22.0</td>\n",
       "      <td>1</td>\n",
       "      <td>0</td>\n",
       "      <td>7.2500</td>\n",
       "      <td>S</td>\n",
       "      <td>Third</td>\n",
       "      <td>man</td>\n",
       "      <td>True</td>\n",
       "      <td>NaN</td>\n",
       "      <td>Southampton</td>\n",
       "      <td>no</td>\n",
       "      <td>False</td>\n",
       "    </tr>\n",
       "    <tr>\n",
       "      <th>1</th>\n",
       "      <td>1</td>\n",
       "      <td>1</td>\n",
       "      <td>female</td>\n",
       "      <td>38.0</td>\n",
       "      <td>1</td>\n",
       "      <td>0</td>\n",
       "      <td>71.2833</td>\n",
       "      <td>C</td>\n",
       "      <td>First</td>\n",
       "      <td>woman</td>\n",
       "      <td>False</td>\n",
       "      <td>C</td>\n",
       "      <td>Cherbourg</td>\n",
       "      <td>yes</td>\n",
       "      <td>False</td>\n",
       "    </tr>\n",
       "    <tr>\n",
       "      <th>2</th>\n",
       "      <td>1</td>\n",
       "      <td>3</td>\n",
       "      <td>female</td>\n",
       "      <td>26.0</td>\n",
       "      <td>0</td>\n",
       "      <td>0</td>\n",
       "      <td>7.9250</td>\n",
       "      <td>S</td>\n",
       "      <td>Third</td>\n",
       "      <td>woman</td>\n",
       "      <td>False</td>\n",
       "      <td>NaN</td>\n",
       "      <td>Southampton</td>\n",
       "      <td>yes</td>\n",
       "      <td>True</td>\n",
       "    </tr>\n",
       "    <tr>\n",
       "      <th>3</th>\n",
       "      <td>1</td>\n",
       "      <td>1</td>\n",
       "      <td>female</td>\n",
       "      <td>35.0</td>\n",
       "      <td>1</td>\n",
       "      <td>0</td>\n",
       "      <td>53.1000</td>\n",
       "      <td>S</td>\n",
       "      <td>First</td>\n",
       "      <td>woman</td>\n",
       "      <td>False</td>\n",
       "      <td>C</td>\n",
       "      <td>Southampton</td>\n",
       "      <td>yes</td>\n",
       "      <td>False</td>\n",
       "    </tr>\n",
       "    <tr>\n",
       "      <th>4</th>\n",
       "      <td>0</td>\n",
       "      <td>3</td>\n",
       "      <td>male</td>\n",
       "      <td>35.0</td>\n",
       "      <td>0</td>\n",
       "      <td>0</td>\n",
       "      <td>8.0500</td>\n",
       "      <td>S</td>\n",
       "      <td>Third</td>\n",
       "      <td>man</td>\n",
       "      <td>True</td>\n",
       "      <td>NaN</td>\n",
       "      <td>Southampton</td>\n",
       "      <td>no</td>\n",
       "      <td>True</td>\n",
       "    </tr>\n",
       "  </tbody>\n",
       "</table>\n",
       "</div>"
      ],
      "text/plain": [
       "   survived  pclass     sex   age  sibsp  parch     fare embarked  class  \\\n",
       "0         0       3    male  22.0      1      0   7.2500        S  Third   \n",
       "1         1       1  female  38.0      1      0  71.2833        C  First   \n",
       "2         1       3  female  26.0      0      0   7.9250        S  Third   \n",
       "3         1       1  female  35.0      1      0  53.1000        S  First   \n",
       "4         0       3    male  35.0      0      0   8.0500        S  Third   \n",
       "\n",
       "     who  adult_male deck  embark_town alive  alone  \n",
       "0    man        True  NaN  Southampton    no  False  \n",
       "1  woman       False    C    Cherbourg   yes  False  \n",
       "2  woman       False  NaN  Southampton   yes   True  \n",
       "3  woman       False    C  Southampton   yes  False  \n",
       "4    man        True  NaN  Southampton    no   True  "
      ]
     },
     "execution_count": 23,
     "metadata": {},
     "output_type": "execute_result"
    }
   ],
   "source": [
    "titanic= sns.load_dataset(\"titanic\")\n",
    "titanic.head()"
   ]
  },
  {
   "cell_type": "markdown",
   "id": "5c2dd18d",
   "metadata": {},
   "source": [
    "### Summary of Chi Square Test\n",
    "* Based on Categorical Data.This is a test is applied only on Categories.\n",
    "* Well Suited For Classification Problems in Machine Learning.\n",
    "* The Ho is that Two Categories have nothing in Common or One Cat has no effect on the other...\n",
    "* Alternate - That both the categories are related.\n",
    "\n",
    "* Again, this is a Non Parametric Test meaning that there is no assumption about the Data.\n",
    "\n",
    "* Since, we deal only in categories therefore, we only work on Frequency/Value_Counts() data.\n",
    "\n",
    "* It is based on Observed Values (Coming from Data) and Expected Values (Which we calculate) and basis that we find out our test statistic.\n",
    "\n",
    "* A Chi Square Test is a Test of Hypothesis where two samples are tested for Independence.\n",
    "\n",
    "* **Here, we dont compare the means of samples coming from same or different population. Here, we have Categorical Variables/Dichotomous Variables on which we perform the test.**\n",
    "\n",
    "* We check if these samples with different categories are independent of each other or there is some pattern of Being Dependent.\n",
    "\n",
    "* If there is Dependence, researcher claims that these two variables have significant relationship. In other words, One variable is linked/being driven by the other. For e.g. Survival in Titanic is Dependent on the Family Count.\n",
    "\n",
    "* **Formula = SUM[(Obs-Exp)**2/Exp] - Chi Square Test Statistic.**"
   ]
  },
  {
   "cell_type": "code",
   "execution_count": null,
   "id": "6dfd9932",
   "metadata": {},
   "outputs": [],
   "source": []
  }
 ],
 "metadata": {
  "colab": {
   "provenance": []
  },
  "kernelspec": {
   "display_name": "Python 3 (ipykernel)",
   "language": "python",
   "name": "python3"
  },
  "language_info": {
   "codemirror_mode": {
    "name": "ipython",
    "version": 3
   },
   "file_extension": ".py",
   "mimetype": "text/x-python",
   "name": "python",
   "nbconvert_exporter": "python",
   "pygments_lexer": "ipython3",
   "version": "3.11.5"
  }
 },
 "nbformat": 4,
 "nbformat_minor": 5
}
