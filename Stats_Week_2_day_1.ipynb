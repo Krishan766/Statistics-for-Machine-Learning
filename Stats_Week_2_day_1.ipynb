{
 "cells": [
  {
   "cell_type": "markdown",
   "id": "7803be6e",
   "metadata": {
    "id": "7803be6e"
   },
   "source": [
    "<table align=\"left\" width=100%>\n",
    "    <tr>\n",
    "        <td width=\"20%\">\n",
    "            <img src=\"GL-2.png\">\n",
    "        </td>\n",
    "        <td>\n",
    "            <div align=\"center\">\n",
    "                <font color=\"#21618C\" size=8px>\n",
    "                  <b> Faculty Notebook Week 1 <br> (Day 4) </b>\n",
    "                </font>\n",
    "            </div>\n",
    "        </td>\n",
    "    </tr>\n",
    "</table>"
   ]
  },
  {
   "cell_type": "markdown",
   "id": "3ce724c8",
   "metadata": {
    "id": "3ce724c8"
   },
   "source": [
    "## Table of Content\n",
    "\n",
    "1. **[Import Libraries](#lib)**\n",
    "2. **[Test of Hypothesis](#defn)**\n",
    "    - 2.1 - **[Types of Hypothesis](#types)**\n",
    "3. **[Types of Test](#test_type)**\n",
    "    - 3.1 - **[Two Tailed Test](#2tailed)**\n",
    "    - 3.2 - **[One Tailed Test](#1tailed)**\n",
    "4. **[Hypothesis Tests with Z Statistic](#eg)**\n",
    "5. **[Error](#error)**"
   ]
  },
  {
   "cell_type": "markdown",
   "id": "42113758",
   "metadata": {
    "id": "42113758"
   },
   "source": [
    "<a id=\"lib\"></a>\n",
    "# 1. Import Libraries"
   ]
  },
  {
   "cell_type": "markdown",
   "id": "a13a5724",
   "metadata": {
    "id": "a13a5724"
   },
   "source": [
    "**Let us import the required libraries.**"
   ]
  },
  {
   "cell_type": "code",
   "execution_count": 11,
   "id": "47c3cfd9",
   "metadata": {
    "id": "47c3cfd9"
   },
   "outputs": [],
   "source": [
    "# import 'pandas' \n",
    "import pandas as pd \n",
    "\n",
    "# import 'numpy' \n",
    "import numpy as np\n",
    "\n",
    "# import subpackage of matplotlib\n",
    "import matplotlib.pyplot as plt\n",
    "\n",
    "# import 'seaborn'\n",
    "import seaborn as sns\n",
    "\n",
    "# to suppress warnings \n",
    "from warnings import filterwarnings\n",
    "filterwarnings('ignore')\n",
    "\n",
    "# import 'random' to generate random sample\n",
    "import random\n",
    "\n",
    "# import statistics to perform statistical computation  \n",
    "import statistics\n",
    "\n",
    "# import 'stats' package from scipy library\n",
    "from scipy import stats\n",
    "\n",
    "# import a library to perform Z-test\n",
    "from statsmodels.stats import weightstats as stests"
   ]
  },
  {
   "cell_type": "code",
   "execution_count": 12,
   "id": "9e4f6a4b",
   "metadata": {
    "id": "9e4f6a4b"
   },
   "outputs": [],
   "source": [
    "# set the plot size using 'rcParams'\n",
    "# once the plot size is set using 'rcParams', it sets the size of all the forthcoming plots in the file\n",
    "# pass width and height in inches to 'figure.figsize' \n",
    "plt.rcParams['figure.figsize'] = [15,8]"
   ]
  },
  {
   "cell_type": "markdown",
   "id": "aecf888f",
   "metadata": {
    "id": "aecf888f"
   },
   "source": [
    "<a id=\"defn\"></a>\n",
    "# 2. Test of Hypothesis"
   ]
  },
  {
   "cell_type": "markdown",
   "id": "f77e8621",
   "metadata": {
    "id": "f77e8621"
   },
   "source": [
    "Hypothesis testing is the process of evaluating the validity of claims made about the population using the sample data obtained from the population. A statistical test is a rule used to decide whether to reject or retain the claim.\n",
    "\n",
    "**Examples of hypothesis:**\n",
    "\n",
    "        1. One can get 'A' grade if the attendance in the class is more than 75%.\n",
    "        2. A probiotic drink can improve the immunity of a person. "
   ]
  },
  {
   "cell_type": "markdown",
   "id": "9fd178d3",
   "metadata": {
    "id": "9fd178d3"
   },
   "source": [
    "<a id=\"types\"></a>\n",
    "## 2.1 Types of Hypothesis"
   ]
  },
  {
   "cell_type": "markdown",
   "id": "cb1c4dbf",
   "metadata": {
    "id": "cb1c4dbf"
   },
   "source": [
    "`Null Hypothesis`: The null hypothesis is the statistical hypothesis suggesting 'no difference' between the population parameter and a specific value\n",
    ". It is denoted as H<sub>0</sub>.\n",
    "\n",
    "`Alternative Hypothesis`: It is the hypothesis that is tested against the null hypothesis and states the existence of a difference between the parameter and a specific value. It is denoted by H<sub>a</sub> or H<sub>1</sub>.\n",
    "\n",
    "The claim is usually the alternative hypothesis H<sub>1</sub> also known as research hypothesis. To test the claim we need to gather evidence (data ) and find the likelihood of the data under the assumption H<sub>0</sub> being true.\n",
    "\n",
    "#### Example:\n",
    "\n",
    "A company that produces tennis balls claimed that the diameter of a tennis ball is at least 2.625 inches on average. On the other hand, a professional tennis coach claimed that the diameter of a ball is less than what the company has claimed. To test the claim of the coach, a statistical test can be performed considering the hypothesis:\n",
    "\n",
    "                    Null Hypothesis: Average diameter ≥ 2.625\n",
    "                    Alternative Hypothesis: Average diameter < 2.625"
   ]
  },
  {
   "cell_type": "markdown",
   "id": "307d9e3d",
   "metadata": {
    "id": "307d9e3d"
   },
   "source": [
    "<a id=\"test_type\"></a>\n",
    "# 3. Types of Test"
   ]
  },
  {
   "cell_type": "markdown",
   "id": "1a9e1354",
   "metadata": {
    "id": "1a9e1354"
   },
   "source": [
    "The hypothesis test is used to validate the claims about the population. The types of tests are based on the nature of the alternative hypothesis. "
   ]
  },
  {
   "cell_type": "markdown",
   "id": "3ca352da",
   "metadata": {
    "id": "3ca352da"
   },
   "source": [
    "<a id=\"2tailed\"></a>\n",
    "## 3.1 Two Tailed Test"
   ]
  },
  {
   "cell_type": "markdown",
   "id": "2afe9966",
   "metadata": {
    "id": "2afe9966"
   },
   "source": [
    "Two tailed test considers the value of the population parameter is less than or greater than (i.e. not equal) a specific value. <br>\n",
    "If we test the population mean ($\\mu$) with a specific value ($\\mu_{0}$) the null hypothesis is: $H_{0}: \\mu = \\mu_{0}$. \n",
    "\n",
    "The alternative hypothesis for the two tailed test is given as: $H_{1}: \\mu \\neq \\mu_{0}$"
   ]
  },
  {
   "cell_type": "markdown",
   "id": "ff98776b",
   "metadata": {
    "id": "ff98776b"
   },
   "source": [
    "#### Example:\n",
    "\n",
    "A company that produces tennis balls claimed that the diameter of a tennis ball is 2.625 inches on average. To test the company's claim, a statistical test can be performed considering the hypothesis:\n",
    "\n",
    "                    Null Hypothesis: Average diameter = 2.625\n",
    "                    Alternative Hypothesis: Average diameter ≠ 2.625"
   ]
  },
  {
   "cell_type": "markdown",
   "id": "b096b67b",
   "metadata": {
    "id": "b096b67b"
   },
   "source": [
    "<a id=\"1tailed\"></a>\n",
    "## 3.2 One Tailed Test"
   ]
  },
  {
   "cell_type": "markdown",
   "id": "6b5acec8",
   "metadata": {
    "id": "6b5acec8"
   },
   "source": [
    "One tailed test considers the value of the population parameter is less than or greater than (but not both) a specific value. <br>\n",
    "If we test the population mean ($\\mu$) with a specific value ($\\mu_{0}$) the null hypothesis is: $H_{0}: \\mu \\leq \\mu_{0}$ and the alternative hypothesis is $H_{1}: \\mu > \\mu_{0}$, the one tailed test is also known as a `right-tailed test`.\n",
    "\n",
    "If we test the population mean ($\\mu$) with a specific value ($\\mu_{0}$) the null hypothesis is: $H_{0}: \\mu \\geq \\mu_{0}$ and the alternative hypothesis is $H_{1}: \\mu < \\mu_{0}$, the one tailed test is also known as a `left-tailed test`.\n"
   ]
  },
  {
   "cell_type": "markdown",
   "id": "740e4831",
   "metadata": {
    "id": "740e4831"
   },
   "source": [
    "### Example:\n",
    "\n",
    "**1.** The company's annual quality report of machines states that a lathe machine works efficiently at most for 8 months on average after the servicing. The production manager claims that after the special tuxan servicing, the machine works efficiently for more than 8 months. To test the claim of production manager consider the hypothesis:\n",
    "\n",
    "                    Null Hypothesis: Machine efficiency ≤ 8 months\n",
    "                    Alternative Hypothesis: Machine efficiency > 8 months\n",
    "\n",
    "This is the example of a **right-tailed test**. "
   ]
  },
  {
   "cell_type": "markdown",
   "id": "b6ebd45e",
   "metadata": {
    "id": "b6ebd45e"
   },
   "source": [
    "**2.** A railway authority claims that all the trains on the Chicago-Seattle route run with a speed of at least 54 mph on average. A customer forum declares that there are various records from passengers claiming that the speed of the train is less than what railway has claimed. In this scenario, a statistical test can be performed to test the claim of customer forum considering the hypothesis:\n",
    "\n",
    "                    Null Hypothesis: Speed ≥ 56 mph\n",
    "                    Alternative Hypothesis: Speed < 56 mph\n",
    "\n",
    "This is the example of a **left-tailed test**. "
   ]
  },
  {
   "cell_type": "markdown",
   "id": "b0fc7088",
   "metadata": {
    "id": "b0fc7088"
   },
   "source": [
    "<a id=\"eg\"></a>\n",
    "# 4. Hypothesis Tests with Z Statistic"
   ]
  },
  {
   "cell_type": "markdown",
   "id": "68802b53",
   "metadata": {
    "id": "68802b53"
   },
   "source": [
    "Let us perform one sample Z test for the population mean. We compare the population mean with a specific value. The sample is assumed to be taken from a population following a normal distribution.\n",
    "\n",
    "To check the normality of the data, a test for normality is used. The `Shapiro-Wilk Test` is one of the methods used to check the normality. The hypothesis of the test is given as:\n",
    "<p style='text-indent:25em'> <strong> H<sub>0</sub>:  The data is normally distributed </strong> </p>\n",
    "<p style='text-indent:25em'> <strong> H<sub>1</sub>:  The data is not normally distributed </strong> </p>\n",
    "\n",
    "The `shapiro()` from scipy library performs a Shapiro-Wilk normality test. "
   ]
  },
  {
   "cell_type": "markdown",
   "id": "5940c4b1",
   "metadata": {
    "id": "5940c4b1"
   },
   "source": [
    "The null and alternative hypothesis of Z-test is given as:\n",
    "<p style='text-indent:25em'> <strong> $H_{0}: \\mu = \\mu_{0}$ or $\\mu \\geq \\mu_{0}$ or $\\mu \\leq \\mu_{0}$</strong></p>\n",
    "<p style='text-indent:25em'> <strong> $H_{1}: \\mu \\neq \\mu_{0}$ or $\\mu < \\mu_{0}$ or $\\mu > \\mu_{0}$</strong></p>"
   ]
  },
  {
   "cell_type": "markdown",
   "id": "507e0f44",
   "metadata": {
    "id": "507e0f44"
   },
   "source": [
    "Consider a normal population with standard deviation $\\sigma$. Let us take a sample of size n, such that (n > 30). \n",
    "The test statistic for one sample Z-test is given as:\n",
    "<p style='text-indent:25em'> <strong> $Z = \\frac{\\overline{X} -  \\mu}{\\frac{\\sigma}{\\sqrt(n)}}$</strong></p>\n",
    "\n",
    "Where, <br>\n",
    "$\\overline{X}$: Sample mean<br>\n",
    "$\\mu$: Specified mean<br>\n",
    "$\\sigma$: Population standard deviation<br>\n",
    "$n$: Sample size\n",
    "\n",
    "Under $H_{0}$ the test statistic follows a standard normal distribution.\n",
    "\n",
    "If $\\sigma$ is unknown, use the sample standard deviation (s) instead of $\\sigma$ to calculate the test statistic."
   ]
  },
  {
   "cell_type": "markdown",
   "id": "a8473571",
   "metadata": {
    "id": "a8473571"
   },
   "source": [
    "### Example:\n",
    "\n",
    "#### 1. The Average IQ of Adult Population is 100 with a Standard Deviation of 15. A Researcher believes that it has changed. He decided to test the IQ of 75 random adults. The Average IQ of the sample came out to be 105. Is there enough evidence to believe that it has changed."
   ]
  },
  {
   "cell_type": "markdown",
   "id": "877cbc26",
   "metadata": {
    "id": "877cbc26"
   },
   "source": [
    "The null and alternative hypothesis is:\n",
    "\n",
    "H<sub>0</sub>: $\\mu =  100 $<br>\n",
    "H<sub>1</sub>: $\\mu != 100 $\n",
    "\n",
    "Here ⍺ = 0.05, for a one-tailed test calculate the critical z-value."
   ]
  },
  {
   "cell_type": "code",
   "execution_count": 13,
   "id": "a308ae06",
   "metadata": {},
   "outputs": [
    {
     "data": {
      "text/plain": [
       "1.9599639845400545"
      ]
     },
     "execution_count": 13,
     "metadata": {},
     "output_type": "execute_result"
    }
   ],
   "source": [
    "# Calculate the critical value\n",
    "# using isf: it stand for 'Inverse Survival Function'\n",
    "# using ppf: it stand for 'Percentage point Function'\n",
    "np.abs(stats.norm.ppf(0.025))"
   ]
  },
  {
   "cell_type": "code",
   "execution_count": 14,
   "id": "b92990ad",
   "metadata": {},
   "outputs": [
    {
     "data": {
      "text/plain": [
       "0.49002748180476197"
      ]
     },
     "execution_count": 14,
     "metadata": {},
     "output_type": "execute_result"
    }
   ],
   "source": [
    "stats.norm.sf(0.025)"
   ]
  },
  {
   "cell_type": "code",
   "execution_count": 15,
   "id": "1c4b62b5",
   "metadata": {},
   "outputs": [],
   "source": [
    "mew=100\n",
    "x_bar=105\n",
    "sigma=15\n",
    "alpha_by2=0.025\n",
    "cl=0.95\n",
    "n=75"
   ]
  },
  {
   "cell_type": "code",
   "execution_count": 16,
   "id": "6be2c7c9",
   "metadata": {},
   "outputs": [
    {
     "name": "stdout",
     "output_type": "stream",
     "text": [
      "Tesrt Statistic 2.886751345948129\n"
     ]
    }
   ],
   "source": [
    "teststats= (x_bar-mew)/(sigma/np.sqrt(n))\n",
    "print('Tesrt Statistic',teststats)"
   ]
  },
  {
   "cell_type": "code",
   "execution_count": 17,
   "id": "9154aa0a",
   "metadata": {},
   "outputs": [
    {
     "data": {
      "text/plain": [
       "(101.60524279777148, 108.39475720222852)"
      ]
     },
     "execution_count": 17,
     "metadata": {},
     "output_type": "execute_result"
    }
   ],
   "source": [
    "# Confidence\n",
    "stats.norm.interval(confidence=cl,loc=x_bar,scale=sigma/np.sqrt(n))"
   ]
  },
  {
   "cell_type": "raw",
   "id": "80acca19",
   "metadata": {},
   "source": [
    "Conclusion of the test\n",
    "* Since the test statistic > critical value, we **Reject the Ho* meaning that the average iq of the population is not 100 anymore\n",
    "\n",
    "* Using Confidence Interaval Region, we can find out the range of Average IQ for the population. Here, we see that range is from 101 till 108\n",
    "\n",
    "* Hence, we can conclude that the average IQ has increased."
   ]
  },
  {
   "cell_type": "code",
   "execution_count": 18,
   "id": "b63206c4",
   "metadata": {},
   "outputs": [],
   "source": [
    "### Make a function\n",
    "def humaraztest(x_bar, mew, sigma, n, alpha, test_type):\n",
    "    if test_type==2:\n",
    "        cv=1-(alpha)/2\n",
    "        critical=np.abs(stats.norm.isf(cv))\n",
    "    else: \n",
    "        cv=1-(alpha)\n",
    "        critical=np.abs(stats.norm.isf(cv))\n",
    "    print('z Critical',critical)\n",
    "    \n",
    "    # Test Statistic\n",
    "    se=sigma/np.sqrt(n)\n",
    "    teststats=np.abs((x_bar-mew)/se)\n",
    "    \n",
    "    print('Test_statistic',teststats)\n",
    "    # Compare the result\n",
    "    \n",
    "    if teststats>critical:\n",
    "        print('Reject the Ho')\n",
    "    else:\n",
    "        print('Fail to Reject the Ho')\n",
    "        \n",
    "    # Confidence Interval\n",
    "    print(stats.norm.interval(cv,loc=x_bar,scale=se))\n"
   ]
  },
  {
   "cell_type": "code",
   "execution_count": 19,
   "id": "a63d77ce",
   "metadata": {},
   "outputs": [
    {
     "name": "stdout",
     "output_type": "stream",
     "text": [
      "z Critical 1.959963984540054\n",
      "Test_statistic 2.886751345948129\n",
      "Reject the Ho\n",
      "(101.11777659556478, 108.88222340443524)\n"
     ]
    }
   ],
   "source": [
    "humaraztest(105,100,15,75,0.05,2)"
   ]
  },
  {
   "cell_type": "code",
   "execution_count": null,
   "id": "75523a3b",
   "metadata": {},
   "outputs": [],
   "source": []
  },
  {
   "cell_type": "code",
   "execution_count": null,
   "id": "5512bb0c",
   "metadata": {},
   "outputs": [],
   "source": []
  },
  {
   "cell_type": "code",
   "execution_count": 20,
   "id": "8567f5bd",
   "metadata": {
    "id": "8567f5bd",
    "outputId": "5cb65546-60f3-4645-f0e1-71c952a26978"
   },
   "outputs": [],
   "source": [
    "# calculate the z-value for 95% of confidence level\n",
    "# use 'stats.norm.isf()' to find the z-value corresponding to the upper tail probability 'q'\n",
    "# pass the value of 'alpha' to the parameter 'q', here alpha = 0.05\n",
    "# use 'round()' to round-off the value to 2 digits"
   ]
  },
  {
   "cell_type": "code",
   "execution_count": 21,
   "id": "6ff75583",
   "metadata": {},
   "outputs": [],
   "source": [
    "# Find the Critical Value\n",
    "#import scipy.stats as stats\n",
    "\n",
    "alpha = 0.05\n",
    "ci = alpha/2\n",
    "\n",
    "# Since the Population Standard Deviation is given, we will use Z Critical\n",
    "# isf - Isotonic Survival Function\n",
    "# ppf - Percent Point Function\n",
    "\n",
    "z_crit = stats.norm.isf(ci) # Z Critical Value/Zscore"
   ]
  },
  {
   "cell_type": "markdown",
   "id": "ac5fbf8e",
   "metadata": {
    "id": "ac5fbf8e"
   },
   "source": [
    "i.e. if z is greater than 1.96 then we reject the null hypothesis."
   ]
  },
  {
   "cell_type": "code",
   "execution_count": 22,
   "id": "964ba9f7",
   "metadata": {
    "id": "964ba9f7",
    "outputId": "6be227eb-4688-4099-b03e-f6d7b227042d"
   },
   "outputs": [
    {
     "name": "stdout",
     "output_type": "stream",
     "text": [
      "TestStats:  2.886751345948129\n"
     ]
    }
   ],
   "source": [
    "# Apply the Statistical Test\n",
    "\n",
    "popmean = 100\n",
    "samplemean = 105\n",
    "popsd = 15\n",
    "n = 75\n",
    "\n",
    "teststats = (samplemean - popmean)/(popsd/np.sqrt(n))\n",
    "print(\"TestStats: \", teststats)"
   ]
  },
  {
   "cell_type": "code",
   "execution_count": 23,
   "id": "84cb4c87",
   "metadata": {
    "id": "84cb4c87",
    "outputId": "5e709ea2-9cd4-47f7-ffa8-45954d2e9335",
    "scrolled": false
   },
   "outputs": [
    {
     "data": {
      "text/plain": [
       "(101.60524279777148, 108.39475720222852)"
      ]
     },
     "execution_count": 23,
     "metadata": {},
     "output_type": "execute_result"
    }
   ],
   "source": [
    "# calculate the 95% confidence interval for the population mean\n",
    "# pass the sample mean to the parameter, 'loc'\n",
    "# pass the scaling factor (standard deviation of sample / n^(1/2)) to the parameter, 'scale'\n",
    "# use 'stdev()' to calculate sample standard deviation\n",
    "# Find the confidence interval\n",
    "\n",
    "stats.norm.interval(0.95, loc = samplemean, scale = popsd/np.sqrt(n))"
   ]
  },
  {
   "cell_type": "code",
   "execution_count": 24,
   "id": "59032fbf",
   "metadata": {},
   "outputs": [],
   "source": [
    "# Make a Function\n",
    "def ztest(samplemean, popmean, popsd, n, alpha, tail):\n",
    "    # Z Critical\n",
    "    if tail==2:\n",
    "        ci = alpha/2\n",
    "        z_crit = np.abs(stats.norm.isf(ci))\n",
    "        print(\"Z Critical: \", z_crit)\n",
    "    else:\n",
    "        ci = alpha\n",
    "        z_crit = np.abs(stats.norm.isf(ci))\n",
    "        print(\"Z Critical: \", z_crit)\n",
    "    \n",
    "    # Test Stats\n",
    "    se = popsd/np.sqrt(n)\n",
    "    test_statistic = np.abs((samplemean - popmean)/se)\n",
    "    print(\"Test Statistic: \", test_statistic)\n",
    "    \n",
    "    # Confidence Interval\n",
    "    print(\"Confidence Interval at\", 1 - alpha, \"is \", \\\n",
    "          stats.norm.interval(1 - alpha,loc = samplemean,scale  =se))\n",
    "    \n",
    "    # PValue\n",
    "    print(\"PValue: \", (1 - stats.norm.cdf(test_statistic))*2)\n",
    "    \n",
    "    # Inference:\n",
    "    if test_statistic>z_crit:\n",
    "        print(\"Reject Ho\")\n",
    "    else:\n",
    "        print(\"Fail to Reject Ho\")"
   ]
  },
  {
   "cell_type": "code",
   "execution_count": 25,
   "id": "494ad3d9",
   "metadata": {},
   "outputs": [
    {
     "name": "stdout",
     "output_type": "stream",
     "text": [
      "Z Critical:  1.9599639845400545\n",
      "Test Statistic:  2.886751345948129\n",
      "Confidence Interval at 0.95 is  (101.60524279777148, 108.39475720222852)\n",
      "PValue:  0.0038924171227785465\n",
      "Reject Ho\n"
     ]
    }
   ],
   "source": [
    "ztest(105, 100, 15, 75, 0.05,2)"
   ]
  },
  {
   "cell_type": "markdown",
   "id": "5e74386f",
   "metadata": {
    "id": "5e74386f"
   },
   "source": [
    "Here the z test statistic is greater than 1.96, thus, we reject the null hypothesis. Further, the Confidence Interval Range also supports the Evidence that the Population Mean is not 100 anymore.\n",
    "\n",
    "**Note: Please note that when null hypothesis is not rejected it cannot be accepted as true.There is merely not enough evidence to say that it is false. This may seem confusing but the situation is analogous to the court of law, where the verdict is either guilty or not guilty based on the evidence. If the person is judged not guilty then it does not mean the person is proved innocent but merely that there is not enough evidence to reach the guilty verdict.**"
   ]
  },
  {
   "cell_type": "markdown",
   "id": "75472414",
   "metadata": {
    "id": "75472414"
   },
   "source": [
    "#### 2. A car manufacturing company claims that the mileage of their new car is 25 kmph with a standard deviation of 2.5 kmph. A random sample of 45 cars was drawn and recorded their mileage as per the standard procedure. From the sample, the mean mileage was seen to be 24 kmph. Is this evidence to claim that the mean mileage is different from 25kmph? (assume the normality of the data) Use α = 0.01."
   ]
  },
  {
   "cell_type": "markdown",
   "id": "b7b83968",
   "metadata": {
    "id": "b7b83968"
   },
   "source": [
    "The null and alternative hypothesis is:\n",
    "\n",
    "H<sub>0</sub>: $\\mu = 25 $<br>\n",
    "H<sub>1</sub>: $\\mu ≠ 25 $\n",
    "\n",
    "Here ⍺ = 0.01, for a two-tailed test calculate the critical z-value."
   ]
  },
  {
   "cell_type": "code",
   "execution_count": 26,
   "id": "5a20a050",
   "metadata": {},
   "outputs": [
    {
     "name": "stdout",
     "output_type": "stream",
     "text": [
      "z Critical 2.5758293035489004\n",
      "Test_statistic 2.6832815729997477\n",
      "Reject the Ho\n",
      "(22.953880279807642, 25.046119720192358)\n"
     ]
    }
   ],
   "source": [
    "# popmean = 25, popsd = 2.5, n = 45, samplemean = 24\n",
    "\n",
    "humaraztest(24,25,2.5,45,0.01,2)"
   ]
  },
  {
   "cell_type": "markdown",
   "id": "0416afaa",
   "metadata": {},
   "source": [
    "#### Conclusion:\n",
    "\n",
    "* We reject the Ho basis the output however, we see that the CI Range Upper Limit is 25 which suggests that it is resulting into an error\n",
    "\n",
    "* Thus, we need to increase the sample size for better results."
   ]
  },
  {
   "cell_type": "code",
   "execution_count": null,
   "id": "ae4aab4a",
   "metadata": {},
   "outputs": [],
   "source": []
  },
  {
   "cell_type": "code",
   "execution_count": null,
   "id": "1c01f551",
   "metadata": {},
   "outputs": [],
   "source": []
  },
  {
   "cell_type": "code",
   "execution_count": 27,
   "id": "2f99addb",
   "metadata": {
    "id": "2f99addb",
    "outputId": "fb1752cc-85e4-4359-c7ba-6d069f99f077"
   },
   "outputs": [
    {
     "name": "stdout",
     "output_type": "stream",
     "text": [
      "Z Critical:  2.575829303548901\n",
      "Test Statistic:  2.6832815729997477\n",
      "Confidence Interval at 0.99 is  (23.040045096471452, 24.959954903528548)\n",
      "PValue:  0.007290358091535554\n",
      "Reject Ho\n"
     ]
    }
   ],
   "source": [
    "# popmean = 25, popsd = 2.5, n = 45, samplemean = 24\n",
    "\n",
    "ztest(24, 25, 2.5, 45, 0.01,2)"
   ]
  },
  {
   "cell_type": "code",
   "execution_count": 28,
   "id": "e1ece2e3",
   "metadata": {
    "id": "e1ece2e3",
    "outputId": "3927fd5c-4dca-41da-dda9-8d0ccfb01f9f"
   },
   "outputs": [],
   "source": [
    "# Calculate the Test Statistic\n"
   ]
  },
  {
   "cell_type": "code",
   "execution_count": null,
   "id": "303edfca",
   "metadata": {
    "id": "303edfca",
    "outputId": "ad06d122-ba5e-474b-82ec-ee32ab3d5514"
   },
   "outputs": [],
   "source": []
  },
  {
   "cell_type": "code",
   "execution_count": 29,
   "id": "23f3f97d",
   "metadata": {
    "id": "23f3f97d",
    "outputId": "2e0c4ba0-6b28-4bd8-ccff-1add59f3a6e3",
    "scrolled": false
   },
   "outputs": [],
   "source": [
    "# calculate the 99% confidence interval for the population mean\n"
   ]
  },
  {
   "cell_type": "markdown",
   "id": "191fc577",
   "metadata": {
    "id": "191fc577"
   },
   "source": [
    "#### 3. The average calories in a slice bread of the brand 'Alphas' are 82 with a standard deviation of 15. An experiment is conducted to test the claim of the dietitians that the calories in a slice of bread are not as per the manufacturer's specification. A sample of 40 slices of bread is taken and the mean calories recorded are 95. Test the claim of dietitians with ⍺ value (significance level) as 0.05. (assume the normality of the data)."
   ]
  },
  {
   "cell_type": "markdown",
   "id": "af8ff011",
   "metadata": {
    "id": "af8ff011"
   },
   "source": [
    "The null and alternative hypothesis is:\n",
    "\n",
    "H<sub>0</sub>: $\\mu = 82 $<br>\n",
    "H<sub>1</sub>: $\\mu ≠ 82 $\n",
    "\n",
    "Here ⍺ = 0.05, for a two-tailed test calculate the critical z-value."
   ]
  },
  {
   "cell_type": "code",
   "execution_count": 30,
   "id": "834c16cd",
   "metadata": {},
   "outputs": [
    {
     "name": "stdout",
     "output_type": "stream",
     "text": [
      "z Critical 1.959963984540054\n",
      "Test_statistic 5.4812812776251905\n",
      "Reject the Ho\n",
      "(89.68404667029081, 100.3159533297092)\n"
     ]
    }
   ],
   "source": [
    "humaraztest(95,82,15,40,0.05,2)"
   ]
  },
  {
   "cell_type": "code",
   "execution_count": 31,
   "id": "8f1d5e12",
   "metadata": {
    "id": "8f1d5e12",
    "outputId": "7c052c45-9fad-493a-b3c6-60f353236e7a"
   },
   "outputs": [],
   "source": [
    "# calculate the z-value for 95% of confidence level\n",
    "# use 'stats.norm.isf()' to find the z-value corresponding to the upper tail probability 'q'\n",
    "# pass the value of 'alpha/2' to the parameter 'q', here alpha = 0.05\n",
    "# use 'round()' to round-off the value to 2 digits\n"
   ]
  },
  {
   "cell_type": "code",
   "execution_count": 32,
   "id": "672d914f",
   "metadata": {
    "id": "672d914f",
    "outputId": "e5ab0bc0-f617-4b95-8582-da8f3d999d26"
   },
   "outputs": [
    {
     "name": "stdout",
     "output_type": "stream",
     "text": [
      "Z Critical:  1.9599639845400545\n",
      "Test Statistic:  5.4812812776251905\n",
      "Confidence Interval at 0.95 is  (90.35153725771579, 99.64846274228421)\n",
      "PValue:  4.222565253009236e-08\n",
      "Reject Ho\n"
     ]
    }
   ],
   "source": [
    "ztest(95, 82, 15, 40, 0.05, 2)"
   ]
  },
  {
   "cell_type": "code",
   "execution_count": null,
   "id": "63094807",
   "metadata": {
    "id": "63094807",
    "outputId": "30a9ea32-268a-4cff-a76d-9e9470196aa9"
   },
   "outputs": [],
   "source": []
  },
  {
   "cell_type": "code",
   "execution_count": 33,
   "id": "116fbdd1",
   "metadata": {
    "id": "116fbdd1",
    "outputId": "940ee566-ce6c-4300-d9e6-6e9dea88ae2b",
    "scrolled": false
   },
   "outputs": [],
   "source": [
    "# calculate the 95% confidence interval for the population mean\n"
   ]
  },
  {
   "cell_type": "markdown",
   "id": "5a700524",
   "metadata": {
    "id": "5a700524"
   },
   "source": [
    "#### 5. An e-commerce company claims that the mean delivery time of food items on its website in NYC is 60 minutes with a standard deviation of 30 minutes. A random sample of 45 customers ordered from the website, and the average time for delivery was found to be 75 minutes. Is this enough evidence to claim that the average time to get items delivered is more than 60 minutes. (assume the normality of the data). Test the with α = 0.05."
   ]
  },
  {
   "cell_type": "markdown",
   "id": "92fd9326",
   "metadata": {
    "id": "92fd9326"
   },
   "source": [
    "The null and alternative hypothesis is:\n",
    "\n",
    "H<sub>0</sub>: $\\mu \\leq  60 $<br>\n",
    "H<sub>1</sub>: $\\mu > 60 $\n",
    "\n",
    "Here ⍺ = 0.05, for a one-tailed test calculate the critical z-value."
   ]
  },
  {
   "cell_type": "code",
   "execution_count": 34,
   "id": "a9f27aa2",
   "metadata": {
    "scrolled": true
   },
   "outputs": [
    {
     "name": "stdout",
     "output_type": "stream",
     "text": [
      "z Critical 1.6448536269514722\n",
      "Test_statistic 3.3541019662496843\n",
      "Reject the Ho\n",
      "(66.23477459423418, 83.76522540576582)\n"
     ]
    }
   ],
   "source": [
    "humaraztest(75,60,30,45,0.05,1)"
   ]
  },
  {
   "cell_type": "code",
   "execution_count": null,
   "id": "349f0aa9",
   "metadata": {},
   "outputs": [],
   "source": []
  },
  {
   "cell_type": "code",
   "execution_count": null,
   "id": "b6b62da3",
   "metadata": {},
   "outputs": [],
   "source": []
  },
  {
   "cell_type": "code",
   "execution_count": 35,
   "id": "c9f99e9e",
   "metadata": {
    "id": "c9f99e9e",
    "outputId": "8c98e21f-5312-43c5-897f-b1295824a515"
   },
   "outputs": [],
   "source": [
    "# calculate the z-value for 95% of confidence level\n",
    "# use 'stats.norm.isf()' to find the z-value corresponding to the upper tail probability 'q'\n",
    "# pass the value of 'alpha' to the parameter 'q', here alpha = 0.05\n",
    "# use 'round()' to round-off the value to 2 digits\n"
   ]
  },
  {
   "cell_type": "code",
   "execution_count": 39,
   "id": "75f30293",
   "metadata": {
    "id": "75f30293",
    "outputId": "8832b46f-7923-496a-a705-809bac2a35c6"
   },
   "outputs": [
    {
     "name": "stdout",
     "output_type": "stream",
     "text": [
      "Z Critical:  1.6448536269514729\n",
      "Test Statistic:  3.3541019662496843\n",
      "Confidence Interval at 0.95 is  (66.23477459423418, 83.76522540576582)\n",
      "PValue:  0.0007962301575907826\n",
      "Reject Ho\n"
     ]
    }
   ],
   "source": [
    "ztest(75, 60, 30, 45, 0.05,1)"
   ]
  },
  {
   "cell_type": "markdown",
   "id": "2548eeeb",
   "metadata": {
    "id": "2548eeeb"
   },
   "source": [
    "# One Sample T Test\n",
    "\n",
    "<a id=\"t\"></a>\n",
    "## 1. Small Sample Test\n",
    "\n",
    "If the sample size is small (usually, n < 30) then we use the `t-test`. These tests are also known as `exact tests`.\n",
    "\n",
    "Let us perform a one sample t-test for the population mean. We compare the population mean with a specific value. \n",
    "\n",
    "The null and alternative hypothesis is given as:\n",
    "\n",
    "<p style='text-indent:25em'> <strong> $H_{0}: \\mu = \\mu_{0}$ or $\\mu \\geq \\mu_{0}$ or $\\mu \\leq \\mu_{0}$</strong></p>\n",
    "<p style='text-indent:25em'> <strong> $H_{1}: \\mu \\neq \\mu_{0}$ or $\\mu < \\mu_{0}$ or $\\mu > \\mu_{0}$</strong></p>\n",
    "\n",
    "The test statistic is given as:\n",
    "<p style='text-indent:25em'> <strong> $t = \\frac{\\overline{X} -  \\mu_{0}}{\\frac{s}{\\sqrt(n)}}$</strong></p>\n",
    "\n",
    "Where, <br>\n",
    "$\\overline{X}$: Sample mean<br>\n",
    "$s$: Sample standard deviation<br>\n",
    "$n$: Sample size\n",
    " \n",
    "Under $H_{0}$ the test statistic follows a t-distribution with n-1 degrees of freedom.\n",
    "\n",
    "#### 6. Experience marketing Services reported that the typical American spend a mean of 144 minutes(2.4 hours) per day accessing the internet via mobile device. In order to test the validity of the statement, you select a sample of 30 friends and family. The result for the time spent per day accessing the Internet via mobile device (in minutes) are stored. Is there enough evidence that Pop Mean Time spent Per Day accessing the internet via mobile device is different from 144 minutes."
   ]
  },
  {
   "cell_type": "markdown",
   "id": "d02a1329",
   "metadata": {
    "id": "d02a1329"
   },
   "source": [
    "The null and alternative hypothesis is:\n",
    "\n",
    "H<sub>0</sub>: $\\mu=144 $<br>\n",
    "H<sub>1</sub>: $\\mu!=144 $"
   ]
  },
  {
   "cell_type": "code",
   "execution_count": 41,
   "id": "8ae8d472",
   "metadata": {
    "id": "8ae8d472",
    "outputId": "5d92be26-2285-4208-8f3d-180b69488226"
   },
   "outputs": [
    {
     "data": {
      "text/plain": [
       "137.48646802099796"
      ]
     },
     "execution_count": 41,
     "metadata": {},
     "output_type": "execute_result"
    }
   ],
   "source": [
    "# Time in Mins\n",
    "\n",
    "mins = [72,144,48,72,36,360,44,30,432,24,288,144,144,240,432,144,\n",
    "        144,144,576,216,72,72,144,288,144,36,288,48,288,144]\n",
    "\n",
    "# Calculate the Sample Standard Deviation\n",
    "\n",
    "# Calculate the Standard Error....\n",
    "np.std(mins)"
   ]
  },
  {
   "cell_type": "code",
   "execution_count": 42,
   "id": "3ad03d0e",
   "metadata": {},
   "outputs": [
    {
     "name": "stdout",
     "output_type": "stream",
     "text": [
      "z Critical 1.959963984540054\n",
      "Test_statistic 1.2454034876063056\n",
      "Fail to Reject the Ho\n",
      "(87.74012120393246, 200.2598787960676)\n"
     ]
    }
   ],
   "source": [
    "humaraztest(144,175.26,137.48,30,0.05,2)"
   ]
  },
  {
   "cell_type": "code",
   "execution_count": 43,
   "id": "a98cea2b",
   "metadata": {},
   "outputs": [
    {
     "data": {
      "text/plain": [
       "1.6991270265334972"
      ]
     },
     "execution_count": 43,
     "metadata": {},
     "output_type": "execute_result"
    }
   ],
   "source": [
    "# Find the Critical Value\n",
    "\n",
    "np.abs(stats.t.isf(0.95, len(mins)-1))"
   ]
  },
  {
   "cell_type": "code",
   "execution_count": 44,
   "id": "e95df504",
   "metadata": {
    "id": "e95df504",
    "outputId": "bf84688a-6e41-44c4-93c6-2f1904543d2a"
   },
   "outputs": [
    {
     "data": {
      "text/plain": [
       "TtestResult(statistic=1.2246743653638934, pvalue=0.23055326882983754, df=29)"
      ]
     },
     "execution_count": 44,
     "metadata": {},
     "output_type": "execute_result"
    }
   ],
   "source": [
    "# Calculate the Test Statistic\n",
    "\n",
    "stats.ttest_1samp(mins, 144)"
   ]
  },
  {
   "cell_type": "code",
   "execution_count": 45,
   "id": "6a39e078",
   "metadata": {},
   "outputs": [
    {
     "data": {
      "text/plain": [
       "(123.05073459043008, 227.4825987429033)"
      ]
     },
     "execution_count": 45,
     "metadata": {},
     "output_type": "execute_result"
    }
   ],
   "source": [
    "# Confidence\n",
    "\n",
    "stats.t.interval(0.95, loc = np.mean(mins), \n",
    "                scale = np.std(mins, ddof = 1)/np.sqrt(len(mins)), \n",
    "                df = len(mins)-1)"
   ]
  },
  {
   "cell_type": "markdown",
   "id": "072e4fe5",
   "metadata": {},
   "source": [
    "### Inference: \n",
    "\n",
    "* Since, the P Value comes out to be 0.23 which is much higher than  alpha = 0.05. Hence, we Fail to Reject the HO meaning that the Average Time Spent by an American on the Internet Using Mobile is really 144  Mins.\n",
    "\n",
    "* At the same time, the confidence interval also reflects the Hypothesized Mean which also validates the above results."
   ]
  },
  {
   "cell_type": "markdown",
   "id": "0af81726",
   "metadata": {
    "id": "0af81726"
   },
   "source": [
    "<a id=\"error\"></a>\n",
    "# 5. Errors in Hypothesis Testing"
   ]
  },
  {
   "cell_type": "markdown",
   "id": "ee3e1e18",
   "metadata": {
    "id": "ee3e1e18"
   },
   "source": [
    "Under the hytpothesis testing framework there can be two decisions; either we 'reject' the null hypotyhesis H<sub>0</sub> or 'not reject' the null hypothesis H<sub>0</sub>. Errors can still occur in a hypothesis testing scenario because the decision to reject or not reject the null hypothesis is made on the basis of data taken from a sample. Two types of errors are `Type I` and `Type II` error."
   ]
  },
  {
   "cell_type": "markdown",
   "id": "c5f4ee70",
   "metadata": {
    "id": "c5f4ee70"
   },
   "source": [
    "### Type I Error\n",
    "\n",
    "This kind of error occurs when we reject the null hypothesis even if it is true. It is equivalent to a `false positive` conclusion. The maximum probability of committing a type I error is given by the value of $\\alpha$, level of significance. So when $\\alpha$ = 0.05 there is a 5% chance of rejecting a true null hypothesis.\n",
    "\n",
    "### Type II Error\n",
    "\n",
    "This kind of error occurs when we fail to reject the null hypothesis even if it is wrong. It is equivalent to a `false negative` conclusion. The probability of type II error is given by the value of $\\beta$. The value of $\\beta$ cannot be easily calculated. But $\\alpha$ and $\\beta$ are thus related that decreasing one increases the other."
   ]
  }
 ],
 "metadata": {
  "colab": {
   "collapsed_sections": [
    "06af1d83",
    "8d9b372f",
    "d66e6df2",
    "db931e70",
    "d2f91c98",
    "ebfd90df",
    "fe48b0f7",
    "75437147",
    "9390028c",
    "58dc10e7",
    "cb1c4dbf",
    "ff98776b",
    "740e4831",
    "75472414",
    "191fc577",
    "a8473571",
    "2548eeeb",
    "5a700524",
    "c5f4ee70"
   ],
   "provenance": []
  },
  "kernelspec": {
   "display_name": "Python 3 (ipykernel)",
   "language": "python",
   "name": "python3"
  },
  "language_info": {
   "codemirror_mode": {
    "name": "ipython",
    "version": 3
   },
   "file_extension": ".py",
   "mimetype": "text/x-python",
   "name": "python",
   "nbconvert_exporter": "python",
   "pygments_lexer": "ipython3",
   "version": "3.11.5"
  }
 },
 "nbformat": 4,
 "nbformat_minor": 5
}
