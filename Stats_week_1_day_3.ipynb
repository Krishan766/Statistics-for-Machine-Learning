{
 "cells": [
  {
   "cell_type": "markdown",
   "id": "42113758",
   "metadata": {
    "id": "42113758"
   },
   "source": [
    "<a id=\"lib\"></a>\n",
    "#  Import Libraries"
   ]
  },
  {
   "cell_type": "code",
   "execution_count": 3,
   "id": "4cf2efe7",
   "metadata": {},
   "outputs": [],
   "source": [
    "import pandas as pd\n",
    "import numpy as np\n",
    "import scipy.stats as stats"
   ]
  },
  {
   "cell_type": "markdown",
   "id": "aecf888f",
   "metadata": {
    "id": "aecf888f"
   },
   "source": [
    "<a id=\"defn\"></a>\n",
    "# Test of Hypothesis"
   ]
  },
  {
   "cell_type": "markdown",
   "id": "f77e8621",
   "metadata": {
    "id": "f77e8621"
   },
   "source": [
    "Hypothesis testing is the process of evaluating the validity of claims made about the population using the sample data obtained from the population. A statistical test is a rule used to decide whether to reject or retain the claim.\n",
    "\n",
    "**Examples of hypothesis:**\n",
    "\n",
    "        1. One can get 'A' grade if the attendance in the class is more than 75%.\n",
    "        2. A probiotic drink can improve the immunity of a person. "
   ]
  },
  {
   "cell_type": "markdown",
   "id": "9fd178d3",
   "metadata": {
    "id": "9fd178d3"
   },
   "source": [
    "<a id=\"types\"></a>\n",
    "## Types of Hypothesis"
   ]
  },
  {
   "cell_type": "markdown",
   "id": "cb1c4dbf",
   "metadata": {
    "id": "cb1c4dbf"
   },
   "source": [
    "`Null Hypothesis`: The null hypothesis is the statistical hypothesis suggesting 'no difference' between the population parameter and a specific value\n",
    ". It is denoted as H<sub>0</sub>.\n",
    "\n",
    "`Alternative Hypothesis`: It is the hypothesis that is tested against the null hypothesis and states the existence of a difference between the parameter and a specific value. It is denoted by H<sub>a</sub> or H<sub>1</sub>.\n",
    "\n",
    "The claim is usually the alternative hypothesis H<sub>1</sub> also known as research hypothesis. To test the claim we need to gather evidence (data ) and find the likelihood of the data under the assumption H<sub>0</sub> being true.\n",
    "\n",
    "A company that produces tennis balls claimed that the diameter of a tennis ball is at least 2.625 inches on average. On the other hand, a professional tennis coach claimed that the diameter of a ball is less than what the company has claimed. To test the claim of the coach, a statistical test can be performed considering the hypothesis:\n",
    "\n",
    "                    Null Hypothesis: Average diameter ≥ 2.625\n",
    "                    Alternative Hypothesis: Average diameter < 2.625"
   ]
  },
  {
   "cell_type": "markdown",
   "id": "b26d0fc2",
   "metadata": {},
   "source": [
    "The mean distollic blood pressure for a group of 85 adult is less than 90mm"
   ]
  },
  {
   "cell_type": "markdown",
   "id": "1639889d",
   "metadata": {},
   "source": [
    "Question:\n",
    "\n",
    "Write the null and alternative hypothesis for the following scenarios:\n",
    "1. A bolt manufacturing company claims that the average number of bolts,\n",
    "it manufactures in a day is 60\n",
    "2. The new virus testing kit takes 20 hours less time than usual testing kit that takes\n",
    "34 hours for the results\n",
    "3. An analyst wants to test whether the Apple Inc. has outperformed in 2019 by 13.5%\n"
   ]
  },
  {
   "cell_type": "raw",
   "id": "23b7d976",
   "metadata": {},
   "source": [
    "1. \n",
    "Ho: The average no of bolts manufacture is 60     : mu=60\n",
    "Ha: The average no of bolts is not equal to 60    : mu!=60\n",
    "\n",
    "2. \n",
    "Ho: The time taken by testing is equal to of greater than 34 : mu>=34\n",
    "Ha: The time taken by testing is less than 34                : mu<34\n",
    "\n",
    "3.\n",
    "Ho: The company performed is less than or equal to 13.5   : mu<=13.5\n",
    "Ha: The company performed is greater than 13.5            : mu>13.5"
   ]
  },
  {
   "cell_type": "raw",
   "id": "f63a20a2",
   "metadata": {},
   "source": [
    "Test the hypothesis that the mean distollic blood pressure for a group of 85 adult is less than 90mm\n",
    "Ho: mu>=90\n",
    "Ha: mu<90\n",
    "\n",
    "Test the hypothesis that the tensiler strength of alloy is more than 500\n",
    "Ho: mu <=500\n",
    "Ha: mu >500\n",
    "\n",
    "test the hypothesis that the yeild of cotton is more than 450 kg per hector\n",
    "Ho: mu<=450\n",
    "Ha: mu>450\n",
    "\n",
    "Test the hypothesis Avg heart beat is 85 beats per mns\n",
    "Ho: mu=85\n",
    "Ha: mu!=85"
   ]
  },
  {
   "cell_type": "markdown",
   "id": "307d9e3d",
   "metadata": {
    "id": "307d9e3d"
   },
   "source": [
    "<a id=\"test_type\"></a>\n",
    "# Types of Test"
   ]
  },
  {
   "cell_type": "markdown",
   "id": "1a9e1354",
   "metadata": {
    "id": "1a9e1354"
   },
   "source": [
    "The hypothesis test is used to validate the claims about the population. The types of tests are based on the nature of the alternative hypothesis. "
   ]
  },
  {
   "cell_type": "markdown",
   "id": "3ca352da",
   "metadata": {
    "id": "3ca352da"
   },
   "source": [
    "<a id=\"2tailed\"></a>\n",
    "## Two Tailed Test"
   ]
  },
  {
   "cell_type": "markdown",
   "id": "2afe9966",
   "metadata": {
    "id": "2afe9966"
   },
   "source": [
    "Two tailed test considers the value of the population parameter is less than or greater than (i.e. not equal) a specific value. <br>\n",
    "If we test the population mean ($\\mu$) with a specific value ($\\mu_{0}$) the null hypothesis is: $H_{0}: \\mu = \\mu_{0}$. \n",
    "\n",
    "The alternative hypothesis for the two tailed test is given as: $H_{1}: \\mu \\neq \\mu_{0}$"
   ]
  },
  {
   "cell_type": "markdown",
   "id": "ff98776b",
   "metadata": {
    "id": "ff98776b"
   },
   "source": [
    "#### Example:\n",
    "\n",
    "A company that produces tennis balls claimed that the diameter of a tennis ball is 2.625 inches on average. To test the company's claim, a statistical test can be performed considering the hypothesis:\n",
    "\n",
    "                    Null Hypothesis: Average diameter = 2.625\n",
    "                    Alternative Hypothesis: Average diameter ≠ 2.625"
   ]
  },
  {
   "cell_type": "markdown",
   "id": "b096b67b",
   "metadata": {
    "id": "b096b67b"
   },
   "source": [
    "<a id=\"1tailed\"></a>\n",
    "## One Tailed Test"
   ]
  },
  {
   "cell_type": "markdown",
   "id": "6b5acec8",
   "metadata": {
    "id": "6b5acec8"
   },
   "source": [
    "One tailed test considers the value of the population parameter is less than or greater than (but not both) a specific value. <br>\n",
    "If we test the population mean ($\\mu$) with a specific value ($\\mu_{0}$) the null hypothesis is: $H_{0}: \\mu \\leq \\mu_{0}$ and the alternative hypothesis is $H_{1}: \\mu > \\mu_{0}$, the one tailed test is also known as a `right-tailed test`.\n",
    "\n",
    "If we test the population mean ($\\mu$) with a specific value ($\\mu_{0}$) the null hypothesis is: $H_{0}: \\mu \\geq \\mu_{0}$ and the alternative hypothesis is $H_{1}: \\mu < \\mu_{0}$, the one tailed test is also known as a `left-tailed test`.\n"
   ]
  },
  {
   "cell_type": "markdown",
   "id": "740e4831",
   "metadata": {
    "id": "740e4831"
   },
   "source": [
    "### Example:\n",
    "\n",
    "**1.** The company's annual quality report of machines states that a lathe machine works efficiently at most for 8 months on average after the servicing. The production manager claims that after the special tuxan servicing, the machine works efficiently for more than 8 months. To test the claim of production manager consider the hypothesis:\n",
    "\n",
    "                    Null Hypothesis: Machine efficiency ≤ 8 months\n",
    "                    Alternative Hypothesis: Machine efficiency > 8 months\n",
    "\n",
    "This is the example of a **right-tailed test**. "
   ]
  },
  {
   "cell_type": "markdown",
   "id": "b6ebd45e",
   "metadata": {
    "id": "b6ebd45e"
   },
   "source": [
    "**2.** A railway authority claims that all the trains on the Chicago-Seattle route run with a speed of at least 54 mph on average. A customer forum declares that there are various records from passengers claiming that the speed of the train is less than what railway has claimed. In this scenario, a statistical test can be performed to test the claim of customer forum considering the hypothesis:\n",
    "\n",
    "                    Null Hypothesis: Speed ≥ 56 mph\n",
    "                    Alternative Hypothesis: Speed < 56 mph\n",
    "\n",
    "This is the example of a **left-tailed test**. "
   ]
  },
  {
   "cell_type": "markdown",
   "id": "b0fc7088",
   "metadata": {
    "id": "b0fc7088"
   },
   "source": [
    "<a id=\"eg\"></a>\n",
    "#  Hypothesis Tests with Z Statistic"
   ]
  },
  {
   "cell_type": "markdown",
   "id": "68802b53",
   "metadata": {
    "id": "68802b53"
   },
   "source": [
    "Let us perform one sample Z test for the population mean. We compare the population mean with a specific value. The sample is assumed to be taken from a population following a normal distribution.\n",
    "\n",
    "To check the normality of the data, a test for normality is used. The `Shapiro-Wilk Test` is one of the methods used to check the normality. The hypothesis of the test is given as:\n",
    "<p style='text-indent:25em'> <strong> H<sub>0</sub>:  The data is normally distributed </strong> </p>\n",
    "<p style='text-indent:25em'> <strong> H<sub>1</sub>:  The data is not normally distributed </strong> </p>\n",
    "\n",
    "The `shapiro()` from scipy library performs a Shapiro-Wilk normality test. "
   ]
  },
  {
   "cell_type": "raw",
   "id": "15e0cba5",
   "metadata": {},
   "source": [
    "In Z Statistic test we have assumption that the sample we are selecting must be normal distribution to test this normality we Shapiro-Wilk Test . In case the data is not normal we have to go with some non-parametric test"
   ]
  },
  {
   "cell_type": "markdown",
   "id": "5940c4b1",
   "metadata": {
    "id": "5940c4b1"
   },
   "source": [
    "The null and alternative hypothesis of Z-test is given as:\n",
    "<p style='text-indent:25em'> <strong> $H_{0}: \\mu = \\mu_{0}$ or $\\mu \\geq \\mu_{0}$ or $\\mu \\leq \\mu_{0}$</strong></p>\n",
    "<p style='text-indent:25em'> <strong> $H_{1}: \\mu \\neq \\mu_{0}$ or $\\mu < \\mu_{0}$ or $\\mu > \\mu_{0}$</strong></p>"
   ]
  },
  {
   "cell_type": "markdown",
   "id": "507e0f44",
   "metadata": {
    "id": "507e0f44"
   },
   "source": [
    "Consider a normal population with standard deviation $\\sigma$. Let us take a sample of size n, such that (n > 30). \n",
    "The test statistic for one sample Z-test is given as:\n",
    "<p style='text-indent:25em'> <strong> $Z = \\frac{\\overline{X} -  \\mu}{\\frac{\\sigma}{\\sqrt(n)}}$</strong></p>\n",
    "\n",
    "Where, <br>\n",
    "$\\overline{X}$: Sample mean<br>\n",
    "$\\mu$: Specified mean<br>\n",
    "$\\sigma$: Population standard deviation<br>\n",
    "$n$: Sample size\n",
    "\n",
    "Under $H_{0}$ the test statistic follows a standard normal distribution.\n",
    "\n",
    "If $\\sigma$ is unknown, use the sample standard deviation (s) instead of $\\sigma$ to calculate the test statistic."
   ]
  },
  {
   "cell_type": "markdown",
   "id": "75472414",
   "metadata": {
    "id": "75472414"
   },
   "source": [
    "\n",
    "#### 1. A car manufacturing company claims that the mileage of their new car is 25 kmph with a standard deviation of 2.5 kmph. A random sample of 45 cars was drawn and recorded their mileage as per the standard procedure. From the sample, the mean mileage was seen to be 24 kmph. Is this evidence to claim that the mean mileage is different from 25kmph? (assume the normality of the data) Use α = 0.01."
   ]
  },
  {
   "cell_type": "markdown",
   "id": "b7b83968",
   "metadata": {
    "id": "b7b83968"
   },
   "source": [
    "The null and alternative hypothesis is:\n",
    "\n",
    "H<sub>0</sub>: $\\mu = 25 $<br>\n",
    "H<sub>1</sub>: $\\mu ≠ 25 $\n",
    "\n",
    "Here ⍺ = 0.01, for a two-tailed test calculate the critical z-value."
   ]
  },
  {
   "cell_type": "raw",
   "id": "2960b7c1",
   "metadata": {},
   "source": [
    "In Z Statistic test we have assumption that the sample we are selecting must be normal distribution to test this normality we Shapiro-Wilk Test . In case the data is not normal we have to go with some non-parametric test"
   ]
  },
  {
   "cell_type": "code",
   "execution_count": 4,
   "id": "3e95e31c",
   "metadata": {},
   "outputs": [
    {
     "data": {
      "text/plain": [
       "(-2.5758293035489004, 2.5758293035489004)"
      ]
     },
     "execution_count": 4,
     "metadata": {},
     "output_type": "execute_result"
    }
   ],
   "source": [
    "stats.norm.interval(confidence=0.99)"
   ]
  },
  {
   "cell_type": "code",
   "execution_count": 5,
   "id": "8aa688be",
   "metadata": {},
   "outputs": [
    {
     "name": "stdout",
     "output_type": "stream",
     "text": [
      "z-value (Test Statistic) -2.6832815729997477\n"
     ]
    }
   ],
   "source": [
    "mu=25\n",
    "x_bar=24\n",
    "sigma=2.5\n",
    "n=45\n",
    "se=sigma/(np.sqrt(n))\n",
    "\n",
    "z1=(x_bar-mu)/se\n",
    "print('z-value (Test Statistic)',z1)"
   ]
  },
  {
   "cell_type": "raw",
   "id": "2f2855bf",
   "metadata": {},
   "source": [
    "Since the z value is out of the confidence interval. Hence the sample is a significant sample. So we have to reject the Ho or the avg milage of cars is not equal to 25."
   ]
  },
  {
   "cell_type": "code",
   "execution_count": 6,
   "id": "9f430cdd",
   "metadata": {},
   "outputs": [],
   "source": [
    "# Same thing can be done using p value"
   ]
  },
  {
   "cell_type": "markdown",
   "id": "9b9c9685",
   "metadata": {},
   "source": [
    "### P-Value"
   ]
  },
  {
   "cell_type": "code",
   "execution_count": 7,
   "id": "f33d086b",
   "metadata": {},
   "outputs": [
    {
     "data": {
      "text/plain": [
       "0.003645179045767819"
      ]
     },
     "execution_count": 7,
     "metadata": {},
     "output_type": "execute_result"
    }
   ],
   "source": [
    "p_value=stats.norm.cdf(x_bar,loc=mu,scale=se)\n",
    "p_value"
   ]
  },
  {
   "cell_type": "code",
   "execution_count": 8,
   "id": "a136f8e0",
   "metadata": {},
   "outputs": [
    {
     "data": {
      "text/plain": [
       "1.2815515655446004"
      ]
     },
     "execution_count": 8,
     "metadata": {},
     "output_type": "execute_result"
    }
   ],
   "source": [
    "stats.norm.isf(0.10)"
   ]
  },
  {
   "cell_type": "code",
   "execution_count": 9,
   "id": "f8201ff7",
   "metadata": {},
   "outputs": [
    {
     "name": "stdout",
     "output_type": "stream",
     "text": [
      "Reject Ho:\n"
     ]
    }
   ],
   "source": [
    "if p_value<0.005 or p_value > 0.995:\n",
    "    print('Reject Ho:')\n",
    "else:\n",
    "    print('Fail to reject Ha:')"
   ]
  },
  {
   "cell_type": "code",
   "execution_count": 10,
   "id": "0df0481a",
   "metadata": {},
   "outputs": [
    {
     "name": "stdout",
     "output_type": "stream",
     "text": [
      "Reject Ho:\n"
     ]
    }
   ],
   "source": [
    "alpha=0.01\n",
    "if p_value<(alpha/2) or p_value > (alpha/2) :\n",
    "    print('Reject Ho:')\n",
    "else:\n",
    "    print('Fail to reject Ha:')"
   ]
  },
  {
   "cell_type": "markdown",
   "id": "191fc577",
   "metadata": {
    "id": "191fc577"
   },
   "source": [
    "#### 2. The average calories in a slice bread of the brand 'Alphas' are 82 with a standard deviation of 15. An experiment is conducted to test the claim of the dietitians that the calories in a slice of bread are not as per the manufacturer's specification. A sample of 40 slices of bread is taken and the mean calories recorded are 95. Test the claim of dietitians with ⍺ value (significance level) as 0.05. (assume the normality of the data)."
   ]
  },
  {
   "cell_type": "code",
   "execution_count": 11,
   "id": "c2bfcf54",
   "metadata": {},
   "outputs": [],
   "source": [
    "# Ho: mu<=82\n",
    "# Ha: mu>82"
   ]
  },
  {
   "cell_type": "code",
   "execution_count": 12,
   "id": "80381792",
   "metadata": {},
   "outputs": [
    {
     "data": {
      "text/plain": [
       "(-1.959963984540054, 1.959963984540054)"
      ]
     },
     "execution_count": 12,
     "metadata": {},
     "output_type": "execute_result"
    }
   ],
   "source": [
    "stats.norm.interval(confidence=0.95)"
   ]
  },
  {
   "cell_type": "code",
   "execution_count": 13,
   "id": "49c2c925",
   "metadata": {},
   "outputs": [
    {
     "name": "stdout",
     "output_type": "stream",
     "text": [
      "z-value 5.4812812776251905\n"
     ]
    }
   ],
   "source": [
    "mu=82\n",
    "x_bar=95\n",
    "sigma=15\n",
    "n=40\n",
    "se=sigma/(np.sqrt(n))\n",
    "\n",
    "z1=(x_bar-mu)/se\n",
    "print('z-value',z1)"
   ]
  },
  {
   "cell_type": "code",
   "execution_count": 14,
   "id": "de250c08",
   "metadata": {},
   "outputs": [
    {
     "data": {
      "text/plain": [
       "0.9999999788871737"
      ]
     },
     "execution_count": 14,
     "metadata": {},
     "output_type": "execute_result"
    }
   ],
   "source": [
    "p_value=stats.norm.cdf(x_bar,loc=mu,scale=se)\n",
    "p_value"
   ]
  },
  {
   "cell_type": "code",
   "execution_count": 15,
   "id": "76691df8",
   "metadata": {},
   "outputs": [
    {
     "name": "stdout",
     "output_type": "stream",
     "text": [
      "Reject Ho or the avg calorie in bread is greater than 82\n"
     ]
    }
   ],
   "source": [
    "alpha=0.05\n",
    "if p_value>(1-alpha):\n",
    "    print('Reject Ho or the avg calorie in bread is greater than 82')\n",
    "else:\n",
    "    print('Fail to reject Ha or the avg calorie in bread is <= 82')"
   ]
  },
  {
   "cell_type": "markdown",
   "id": "a8473571",
   "metadata": {
    "id": "a8473571"
   },
   "source": [
    "#### 3. A typhoid vaccine in the market inscribes 3 mg of ascorbic acid in the vaccine. A research team claims that the vaccines contain less than 3 mg of acid. We collected the data of 40 vaccines by using random sampling from a population and recorded the amount of ascorbic acid. Test the claim of the research team using the sample data ⍺ value (significance level) to 0.05.\n",
    "\n",
    "    acid_amt = [2.57, 3.06, 3.28 , 3.24, 2.79, 3.40, 3.36, 3.07, 2.46, 3.03, 3.05, 2.94, 3.46, 3.19, 3.09, 2.81, 3.13, 2.88, \n",
    "                2.76, 2.75, 3.17, 2.89, 2.54, 3.18, 3.08, 2.60, 3.06, 3.13, 3.11, 3.08, 2.93, 2.90, 3.06, 2.97, 3.24, 2.86, \n",
    "                2.87, 3.18, 3, 2.95]"
   ]
  },
  {
   "cell_type": "code",
   "execution_count": 16,
   "id": "b3288ef3",
   "metadata": {},
   "outputs": [],
   "source": [
    "acid_amt = [2.57, 3.06, 3.28 , 3.24, 2.79, 3.40, 3.36, 3.07, 2.46, 3.03, 3.05, 2.94, 3.46, \n",
    "            3.19, 3.09, 2.81, 3.13, 2.88, 2.76, 2.75, 3.17, 2.89, 2.54, 3.18, 3.08, 2.60, \n",
    "            3.06, 3.13, 3.11, 3.08, 2.93, 2.90, 3.06, 2.97, 3.24, 2.86, 2.87, 3.18, 3, 2.95]"
   ]
  },
  {
   "cell_type": "code",
   "execution_count": 17,
   "id": "62af3bf4",
   "metadata": {},
   "outputs": [
    {
     "data": {
      "text/plain": [
       "0.5609374046325684"
      ]
     },
     "execution_count": 17,
     "metadata": {},
     "output_type": "execute_result"
    }
   ],
   "source": [
    "# Check for assumption\n",
    "p_value=stats.shapiro(acid_amt)[1]\n",
    "p_value"
   ]
  },
  {
   "cell_type": "code",
   "execution_count": 18,
   "id": "100383d2",
   "metadata": {},
   "outputs": [
    {
     "name": "stdout",
     "output_type": "stream",
     "text": [
      "Fail to reject Ha or data is normal\n"
     ]
    }
   ],
   "source": [
    "if p_value<0.05:\n",
    "    print('Reject Ho or data is not normal')\n",
    "else:\n",
    "    print('Fail to reject Ha or data is normal')"
   ]
  },
  {
   "cell_type": "markdown",
   "id": "2548eeeb",
   "metadata": {
    "id": "2548eeeb"
   },
   "source": [
    "#### 4. A sample of 900 PVC pipes is found to have an average thickness of 12.5 mm. Can we assume that the sample is coming from a normal population with mean 13 mm against that it is less than 13 mm. The population standard deviation is 1 mm. Test the hypothesis at 5% level of significance."
   ]
  },
  {
   "cell_type": "code",
   "execution_count": null,
   "id": "255f673c",
   "metadata": {},
   "outputs": [],
   "source": [
    "# Ho: \n",
    "# Ha:\n"
   ]
  },
  {
   "cell_type": "code",
   "execution_count": null,
   "id": "f75ee2fe",
   "metadata": {},
   "outputs": [],
   "source": []
  },
  {
   "cell_type": "code",
   "execution_count": 19,
   "id": "c542baef",
   "metadata": {},
   "outputs": [
    {
     "name": "stdout",
     "output_type": "stream",
     "text": [
      "P_Value 3.6709661993126986e-51\n",
      "Reject Ho \n"
     ]
    }
   ],
   "source": [
    "# Ho: mu>=13\n",
    "# Ha: mu<13\n",
    "sigma=1\n",
    "n=900\n",
    "mu=13\n",
    "x_bar=12.5\n",
    "alpha=0.05\n",
    "se=sigma/(np.sqrt(n))\n",
    "p_value=stats.norm.cdf(x_bar,loc=mu,scale=se)\n",
    "print('P_Value',p_value)\n",
    "if p_value<alpha:\n",
    "    print('Reject Ho ')\n",
    "else:\n",
    "    print('Fail to reject Ha ')"
   ]
  },
  {
   "cell_type": "markdown",
   "id": "5a700524",
   "metadata": {
    "id": "5a700524"
   },
   "source": [
    "#### 5. An e-commerce company claims that the mean delivery time of food items on its website in NYC is 60 minutes with a standard deviation of 30 minutes. A random sample of 45 customers ordered from the website, and the average time for delivery was found to be 75 minutes. Is this enough evidence to claim that the average time to get items delivered is more than 60 minutes. (assume the normality of the data). Test the with α = 0.05."
   ]
  },
  {
   "cell_type": "code",
   "execution_count": 20,
   "id": "d38a46ec",
   "metadata": {},
   "outputs": [],
   "source": [
    "# Ho: mu<=60\n",
    "# Ha: mu>60"
   ]
  },
  {
   "cell_type": "markdown",
   "id": "0af81726",
   "metadata": {
    "id": "0af81726"
   },
   "source": [
    "<a id=\"error\"></a>\n",
    "# Errors in Hypothesis Testing"
   ]
  },
  {
   "cell_type": "markdown",
   "id": "ee3e1e18",
   "metadata": {
    "id": "ee3e1e18"
   },
   "source": [
    "Under the hytpothesis testing framework there can be two decisions; either we 'reject' the null hypotyhesis H<sub>0</sub> or 'not reject' the null hypothesis H<sub>0</sub>. Errors can still occur in a hypothesis testing scenario because the decision to reject or not reject the null hypothesis is made on the basis of data taken from a sample. Two types of errors are `Type I` and `Type II` error."
   ]
  },
  {
   "cell_type": "markdown",
   "id": "c5f4ee70",
   "metadata": {
    "id": "c5f4ee70"
   },
   "source": [
    "### Type I Error\n",
    "\n",
    "This kind of error occurs when we reject the null hypothesis even if it is true. It is equivalent to a `false positive` conclusion. The maximum probability of committing a type I error is given by the value of $\\alpha$, level of significance. So when $\\alpha$ = 0.05 there is a 5% chance of rejecting a true null hypothesis.\n",
    "\n",
    "### Type II Error\n",
    "\n",
    "This kind of error occurs when we fail to reject the null hypothesis even if it is wrong. It is equivalent to a `false negative` conclusion. The probability of type II error is given by the value of $\\beta$. The value of $\\beta$ cannot be easily calculated. But $\\alpha$ and $\\beta$ are thus related that decreasing one increases the other."
   ]
  }
 ],
 "metadata": {
  "colab": {
   "collapsed_sections": [
    "06af1d83",
    "8d9b372f",
    "d66e6df2",
    "db931e70",
    "d2f91c98",
    "ebfd90df",
    "fe48b0f7",
    "75437147",
    "9390028c",
    "58dc10e7",
    "cb1c4dbf",
    "ff98776b",
    "740e4831",
    "75472414",
    "191fc577",
    "a8473571",
    "2548eeeb",
    "5a700524",
    "c5f4ee70"
   ],
   "provenance": []
  },
  "kernelspec": {
   "display_name": "Python 3 (ipykernel)",
   "language": "python",
   "name": "python3"
  },
  "language_info": {
   "codemirror_mode": {
    "name": "ipython",
    "version": 3
   },
   "file_extension": ".py",
   "mimetype": "text/x-python",
   "name": "python",
   "nbconvert_exporter": "python",
   "pygments_lexer": "ipython3",
   "version": "3.11.5"
  }
 },
 "nbformat": 4,
 "nbformat_minor": 5
}
