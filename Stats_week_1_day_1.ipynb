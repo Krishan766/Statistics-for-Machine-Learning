{
 "cells": [
  {
   "cell_type": "code",
   "execution_count": 2,
   "id": "b5293823",
   "metadata": {},
   "outputs": [],
   "source": [
    "import pandas as pd\n",
    "import numpy as np\n",
    "import seaborn as sns\n",
    "import matplotlib.pyplot as plt\n",
    "import scipy.stats as stats"
   ]
  },
  {
   "cell_type": "markdown",
   "id": "34b6d5ac",
   "metadata": {},
   "source": [
    "### DISCRETE PROBABILITY DISTRIBUTION"
   ]
  },
  {
   "cell_type": "code",
   "execution_count": 3,
   "id": "46e3b9c3",
   "metadata": {},
   "outputs": [],
   "source": [
    "# Random variable\n",
    "# p(x=?) here x is random varible\n",
    "# it can be discrete or continous random variable"
   ]
  },
  {
   "cell_type": "code",
   "execution_count": 4,
   "id": "7f1330cc",
   "metadata": {},
   "outputs": [
    {
     "data": {
      "text/html": [
       "<div>\n",
       "<style scoped>\n",
       "    .dataframe tbody tr th:only-of-type {\n",
       "        vertical-align: middle;\n",
       "    }\n",
       "\n",
       "    .dataframe tbody tr th {\n",
       "        vertical-align: top;\n",
       "    }\n",
       "\n",
       "    .dataframe thead th {\n",
       "        text-align: right;\n",
       "    }\n",
       "</style>\n",
       "<table border=\"1\" class=\"dataframe\">\n",
       "  <thead>\n",
       "    <tr style=\"text-align: right;\">\n",
       "      <th></th>\n",
       "      <th>No of vehicles</th>\n",
       "      <th>Frequency</th>\n",
       "    </tr>\n",
       "  </thead>\n",
       "  <tbody>\n",
       "    <tr>\n",
       "      <th>0</th>\n",
       "      <td>0</td>\n",
       "      <td>30</td>\n",
       "    </tr>\n",
       "    <tr>\n",
       "      <th>1</th>\n",
       "      <td>1</td>\n",
       "      <td>320</td>\n",
       "    </tr>\n",
       "    <tr>\n",
       "      <th>2</th>\n",
       "      <td>2</td>\n",
       "      <td>910</td>\n",
       "    </tr>\n",
       "    <tr>\n",
       "      <th>3</th>\n",
       "      <td>3</td>\n",
       "      <td>580</td>\n",
       "    </tr>\n",
       "    <tr>\n",
       "      <th>4</th>\n",
       "      <td>4</td>\n",
       "      <td>160</td>\n",
       "    </tr>\n",
       "  </tbody>\n",
       "</table>\n",
       "</div>"
      ],
      "text/plain": [
       "   No of vehicles  Frequency\n",
       "0               0         30\n",
       "1               1        320\n",
       "2               2        910\n",
       "3               3        580\n",
       "4               4        160"
      ]
     },
     "execution_count": 4,
     "metadata": {},
     "output_type": "execute_result"
    }
   ],
   "source": [
    "no_of_veh = [0,1,2,3,4]\n",
    "freq = [30,320,910,580,160]\n",
    "data = pd.DataFrame({'No of vehicles':no_of_veh,'Frequency':freq})\n",
    "data"
   ]
  },
  {
   "cell_type": "code",
   "execution_count": 5,
   "id": "375686f2",
   "metadata": {},
   "outputs": [
    {
     "data": {
      "text/plain": [
       "2000"
      ]
     },
     "execution_count": 5,
     "metadata": {},
     "output_type": "execute_result"
    }
   ],
   "source": [
    "sum(freq)"
   ]
  },
  {
   "cell_type": "code",
   "execution_count": 6,
   "id": "59f3c7d8",
   "metadata": {},
   "outputs": [
    {
     "data": {
      "text/html": [
       "<div>\n",
       "<style scoped>\n",
       "    .dataframe tbody tr th:only-of-type {\n",
       "        vertical-align: middle;\n",
       "    }\n",
       "\n",
       "    .dataframe tbody tr th {\n",
       "        vertical-align: top;\n",
       "    }\n",
       "\n",
       "    .dataframe thead th {\n",
       "        text-align: right;\n",
       "    }\n",
       "</style>\n",
       "<table border=\"1\" class=\"dataframe\">\n",
       "  <thead>\n",
       "    <tr style=\"text-align: right;\">\n",
       "      <th></th>\n",
       "      <th>No of vehicles</th>\n",
       "      <th>Frequency</th>\n",
       "      <th>prob (PMF)</th>\n",
       "    </tr>\n",
       "  </thead>\n",
       "  <tbody>\n",
       "    <tr>\n",
       "      <th>0</th>\n",
       "      <td>0</td>\n",
       "      <td>30</td>\n",
       "      <td>0.015</td>\n",
       "    </tr>\n",
       "    <tr>\n",
       "      <th>1</th>\n",
       "      <td>1</td>\n",
       "      <td>320</td>\n",
       "      <td>0.160</td>\n",
       "    </tr>\n",
       "    <tr>\n",
       "      <th>2</th>\n",
       "      <td>2</td>\n",
       "      <td>910</td>\n",
       "      <td>0.455</td>\n",
       "    </tr>\n",
       "    <tr>\n",
       "      <th>3</th>\n",
       "      <td>3</td>\n",
       "      <td>580</td>\n",
       "      <td>0.290</td>\n",
       "    </tr>\n",
       "    <tr>\n",
       "      <th>4</th>\n",
       "      <td>4</td>\n",
       "      <td>160</td>\n",
       "      <td>0.080</td>\n",
       "    </tr>\n",
       "  </tbody>\n",
       "</table>\n",
       "</div>"
      ],
      "text/plain": [
       "   No of vehicles  Frequency  prob (PMF)\n",
       "0               0         30       0.015\n",
       "1               1        320       0.160\n",
       "2               2        910       0.455\n",
       "3               3        580       0.290\n",
       "4               4        160       0.080"
      ]
     },
     "execution_count": 6,
     "metadata": {},
     "output_type": "execute_result"
    }
   ],
   "source": [
    "# PMF = Probability mass function\n",
    "data['prob (PMF)'] = data['Frequency']/2000\n",
    "data"
   ]
  },
  {
   "cell_type": "code",
   "execution_count": 7,
   "id": "8774794e",
   "metadata": {},
   "outputs": [
    {
     "data": {
      "image/png": "[encoded data removed]",
      "text/plain": [
       "<Figure size 300x200 with 1 Axes>"
      ]
     },
     "metadata": {},
     "output_type": "display_data"
    }
   ],
   "source": [
    "plt.figure(figsize=(3,2))\n",
    "sns.barplot(x=data['No of vehicles'],y=data['prob (PMF)'])\n",
    "plt.title('Probability Distribution')\n",
    "plt.show()"
   ]
  },
  {
   "cell_type": "code",
   "execution_count": 8,
   "id": "4ad9042f",
   "metadata": {},
   "outputs": [
    {
     "name": "stdout",
     "output_type": "stream",
     "text": [
      "0.455\n",
      "0.825\n",
      "0.63\n",
      "0.37\n"
     ]
    }
   ],
   "source": [
    "# Probabilty that randomly selected family owns two vehicle\n",
    "prob_2 = data['prob (PMF)'][2]\n",
    "print(prob_2)\n",
    "\n",
    "# Probabilty that randomly selected family owns at least two vehicle\n",
    "print(data['prob (PMF)'][2]+data['prob (PMF)'][3]+data['prob (PMF)'][4])\n",
    "\n",
    "# Probabilty that randomly selected family owns at most 2 vehicle\n",
    "print(data['prob (PMF)'][0]+data['prob (PMF)'][1]+ data['prob (PMF)'][2])\n",
    "\n",
    "# Probabilty that randomly selected family owns three or more vehicle\n",
    "print(data['prob (PMF)'][3] + data['prob (PMF)'][4])"
   ]
  },
  {
   "cell_type": "code",
   "execution_count": 9,
   "id": "8b8488e7",
   "metadata": {},
   "outputs": [
    {
     "data": {
      "text/html": [
       "<div>\n",
       "<style scoped>\n",
       "    .dataframe tbody tr th:only-of-type {\n",
       "        vertical-align: middle;\n",
       "    }\n",
       "\n",
       "    .dataframe tbody tr th {\n",
       "        vertical-align: top;\n",
       "    }\n",
       "\n",
       "    .dataframe thead th {\n",
       "        text-align: right;\n",
       "    }\n",
       "</style>\n",
       "<table border=\"1\" class=\"dataframe\">\n",
       "  <thead>\n",
       "    <tr style=\"text-align: right;\">\n",
       "      <th></th>\n",
       "      <th>No of vehicles</th>\n",
       "      <th>Frequency</th>\n",
       "      <th>prob (PMF)</th>\n",
       "      <th>prob (CDF)</th>\n",
       "    </tr>\n",
       "  </thead>\n",
       "  <tbody>\n",
       "    <tr>\n",
       "      <th>0</th>\n",
       "      <td>0</td>\n",
       "      <td>30</td>\n",
       "      <td>0.015</td>\n",
       "      <td>0.015</td>\n",
       "    </tr>\n",
       "    <tr>\n",
       "      <th>1</th>\n",
       "      <td>1</td>\n",
       "      <td>320</td>\n",
       "      <td>0.160</td>\n",
       "      <td>0.175</td>\n",
       "    </tr>\n",
       "    <tr>\n",
       "      <th>2</th>\n",
       "      <td>2</td>\n",
       "      <td>910</td>\n",
       "      <td>0.455</td>\n",
       "      <td>0.630</td>\n",
       "    </tr>\n",
       "    <tr>\n",
       "      <th>3</th>\n",
       "      <td>3</td>\n",
       "      <td>580</td>\n",
       "      <td>0.290</td>\n",
       "      <td>0.920</td>\n",
       "    </tr>\n",
       "    <tr>\n",
       "      <th>4</th>\n",
       "      <td>4</td>\n",
       "      <td>160</td>\n",
       "      <td>0.080</td>\n",
       "      <td>1.000</td>\n",
       "    </tr>\n",
       "  </tbody>\n",
       "</table>\n",
       "</div>"
      ],
      "text/plain": [
       "   No of vehicles  Frequency  prob (PMF)  prob (CDF)\n",
       "0               0         30       0.015       0.015\n",
       "1               1        320       0.160       0.175\n",
       "2               2        910       0.455       0.630\n",
       "3               3        580       0.290       0.920\n",
       "4               4        160       0.080       1.000"
      ]
     },
     "execution_count": 9,
     "metadata": {},
     "output_type": "execute_result"
    }
   ],
   "source": [
    "# CDF : cumulative distribution function\n",
    "data['prob (CDF)'] = np.cumsum(data['prob (PMF)'])\n",
    "data"
   ]
  },
  {
   "cell_type": "code",
   "execution_count": 10,
   "id": "c384f654",
   "metadata": {},
   "outputs": [
    {
     "data": {
      "image/png": "[encoded data removed]",
      "text/plain": [
       "<Figure size 300x200 with 1 Axes>"
      ]
     },
     "metadata": {},
     "output_type": "display_data"
    }
   ],
   "source": [
    "plt.figure(figsize=(3,2))\n",
    "sns.barplot(x=data['No of vehicles'],y=data['prob (CDF)'])\n",
    "plt.title('Cumulative Probability Distribution')\n",
    "plt.show()"
   ]
  },
  {
   "cell_type": "markdown",
   "id": "4f6b1566",
   "metadata": {},
   "source": [
    "### BINOMIAL PROBABILITY DISTRIBUTION"
   ]
  },
  {
   "cell_type": "raw",
   "id": "78768144",
   "metadata": {},
   "source": [
    "For Binomial distribution\n",
    "1. There must be only two possible outcomes (success and faliure)\n",
    "2. The outcome must be like p(success) + p(faliure) = 1\n",
    "3. There must be n no. of independent trials"
   ]
  },
  {
   "attachments": {
    "image.png": {
     "image/png": "[encoded data removed]"
    }
   },
   "cell_type": "markdown",
   "id": "36a31bb3",
   "metadata": {},
   "source": [
    "![image.png](attachment:image.png)"
   ]
  },
  {
   "cell_type": "code",
   "execution_count": 11,
   "id": "6acefcf7",
   "metadata": {},
   "outputs": [
    {
     "data": {
      "text/plain": [
       "<BarContainer object of 11 artists>"
      ]
     },
     "execution_count": 11,
     "metadata": {},
     "output_type": "execute_result"
    },
    {
     "data": {
      "image/png": "[encoded data removed]",
      "text/plain": [
       "<Figure size 300x200 with 1 Axes>"
      ]
     },
     "metadata": {},
     "output_type": "display_data"
    }
   ],
   "source": [
    "# Tossing a coin 10 times and getting 3 heads\n",
    "# prob dist\n",
    "p_head = 0.5  # p\n",
    "trials = 10  # n\n",
    "pmfs = stats.binom.pmf(k=range(11),n=10,p=0.5)\n",
    "plt.figure(figsize=(3,2))\n",
    "plt.bar(x=range(11),height=pmfs)"
   ]
  },
  {
   "cell_type": "code",
   "execution_count": 12,
   "id": "817896b8",
   "metadata": {},
   "outputs": [
    {
     "data": {
      "text/plain": [
       "0.11718750000000004"
      ]
     },
     "execution_count": 12,
     "metadata": {},
     "output_type": "execute_result"
    }
   ],
   "source": [
    "n_success = 3  # k\n",
    "stats.binom.pmf(k=n_success,n=trials,p=p_head)"
   ]
  },
  {
   "cell_type": "code",
   "execution_count": 13,
   "id": "7b6072c5",
   "metadata": {},
   "outputs": [
    {
     "data": {
      "text/plain": [
       "0.1718750000000001"
      ]
     },
     "execution_count": 13,
     "metadata": {},
     "output_type": "execute_result"
    }
   ],
   "source": [
    "# Tossing a coin 10 times and getting 9 heads\n",
    "p= 0.5\n",
    "n = 10\n",
    "k = 9\n",
    "stats.binom.pmf(k=k,n=n,p=p)\n",
    "# Tossing a coin 10 times and getting atmost 3 heads\n",
    "stats.binom.pmf(k=0,n=n,p=p) + stats.binom.pmf(k=1,n=n,p=p) +\\\n",
    "stats.binom.pmf(k=2,n=n,p=p) + stats.binom.pmf(k=3,n=n,p=p)  "
   ]
  },
  {
   "cell_type": "code",
   "execution_count": 14,
   "id": "52fd0595",
   "metadata": {},
   "outputs": [
    {
     "data": {
      "text/plain": [
       "0.171875"
      ]
     },
     "execution_count": 14,
     "metadata": {},
     "output_type": "execute_result"
    }
   ],
   "source": [
    "# Tossing a coin 10 times and getting atmost 3 heads\n",
    "stats.binom.cdf(k=3,n=10,p=0.5)"
   ]
  },
  {
   "cell_type": "code",
   "execution_count": 15,
   "id": "8ca49b36",
   "metadata": {},
   "outputs": [
    {
     "data": {
      "text/plain": [
       "<BarContainer object of 11 artists>"
      ]
     },
     "execution_count": 15,
     "metadata": {},
     "output_type": "execute_result"
    },
    {
     "data": {
      "image/png": "[encoded data removed]",
      "text/plain": [
       "<Figure size 300x200 with 1 Axes>"
      ]
     },
     "metadata": {},
     "output_type": "display_data"
    }
   ],
   "source": [
    "cdfs = stats.binom.cdf(k=range(11),n=10,p=0.5)\n",
    "plt.figure(figsize=(3,2))\n",
    "plt.bar(x=range(11),height=cdfs)"
   ]
  },
  {
   "cell_type": "markdown",
   "id": "2a8c3ace",
   "metadata": {},
   "source": [
    "Eg. In a poll, adult men aged 25–35 were asked, “If you go bald, will you consider hair transplant if you can afford it?” Thirty percent of them said, “Definitely.” Suppose that this result is true for the current population of adult men aged 25–35. A random sample of 15 adult men aged 25–35 is selected. Use the binomial probabilities table (Table I of Appendix B) or technology to find the probability that the number of men in this sample of 15 who will say definitely in response\n",
    "to the said question is\n",
    "* a. at least 4 \n",
    "* b. 1 to 3 \n",
    "* c. at most 5"
   ]
  },
  {
   "cell_type": "code",
   "execution_count": 16,
   "id": "d9407a9c",
   "metadata": {},
   "outputs": [
    {
     "data": {
      "text/plain": [
       "<BarContainer object of 16 artists>"
      ]
     },
     "execution_count": 16,
     "metadata": {},
     "output_type": "execute_result"
    },
    {
     "data": {
      "image/png": "[encoded data removed]",
      "text/plain": [
       "<Figure size 300x200 with 1 Axes>"
      ]
     },
     "metadata": {},
     "output_type": "display_data"
    }
   ],
   "source": [
    "pmfs = stats.binom.pmf(k=range(16),n=15,p=0.3)\n",
    "plt.figure(figsize=(3,2))\n",
    "plt.bar(x=range(16),height=pmfs)"
   ]
  },
  {
   "cell_type": "code",
   "execution_count": 17,
   "id": "3a854253",
   "metadata": {},
   "outputs": [],
   "source": [
    "# Lets plot the prob distribution first"
   ]
  },
  {
   "cell_type": "code",
   "execution_count": 18,
   "id": "20dae65b",
   "metadata": {},
   "outputs": [
    {
     "data": {
      "text/plain": [
       "0.7031320721129521"
      ]
     },
     "execution_count": 18,
     "metadata": {},
     "output_type": "execute_result"
    }
   ],
   "source": [
    "# a. at least 4 = 1 - cdf(3)\n",
    "1 - stats.binom.cdf(k=3,n=15,p=0.3)"
   ]
  },
  {
   "cell_type": "code",
   "execution_count": 19,
   "id": "5c668a01",
   "metadata": {},
   "outputs": [
    {
     "data": {
      "text/plain": [
       "0.29212036637710487"
      ]
     },
     "execution_count": 19,
     "metadata": {},
     "output_type": "execute_result"
    }
   ],
   "source": [
    "# b. 1 to 3 = cdf(3) - pmf(0)\n",
    "stats.binom.cdf(k=3,n=15,p=0.3) - stats.binom.pmf(k=0,n=15,p=0.3)"
   ]
  },
  {
   "cell_type": "code",
   "execution_count": 20,
   "id": "626dbc44",
   "metadata": {},
   "outputs": [
    {
     "data": {
      "text/plain": [
       "0.7216214402043641"
      ]
     },
     "execution_count": 20,
     "metadata": {},
     "output_type": "execute_result"
    }
   ],
   "source": [
    "# c. at most 5 = cdf(5)\n",
    "stats.binom.cdf(k=5,n=15,p=0.3)"
   ]
  },
  {
   "cell_type": "raw",
   "id": "51bb9c07",
   "metadata": {},
   "source": [
    "Q. Let’s say that 80% of all business startups in the IT industry report that they generate a profit in their first year. If a sample of 10 new IT business startups is selected, \n",
    "\n",
    "1. Find the probability that exactly seven will generate a profit in their first year.\n",
    "\n",
    "2. Find the probability that exactly three will bear the loss.\n",
    "\n",
    "3. Find the probabilty that between 4 to 7 will generate profit.\n",
    "\n",
    "4. Find the probability that more than 7 will generate profit.\n",
    "\n",
    "5. Find the probability that odd number of startups will generate the profit.\n",
    "\n",
    "6. Plot the probability mass function and Cumulative distribution function."
   ]
  },
  {
   "cell_type": "code",
   "execution_count": 21,
   "id": "b33c8a7f",
   "metadata": {},
   "outputs": [
    {
     "name": "stdout",
     "output_type": "stream",
     "text": [
      "ANS 0.4969766912\n"
     ]
    }
   ],
   "source": [
    "# Find the probability that odd number of startups will generate the profit.\n",
    "prob = []\n",
    "for i in range(1,10,2):\n",
    "    p = stats.binom.pmf(k=i,n=10,p=0.8)\n",
    "    prob.append(p)\n",
    "print('ANS',sum(prob))    \n"
   ]
  },
  {
   "cell_type": "code",
   "execution_count": 22,
   "id": "0c1aaca5",
   "metadata": {},
   "outputs": [
    {
     "data": {
      "text/plain": [
       "0.201326592"
      ]
     },
     "execution_count": 22,
     "metadata": {},
     "output_type": "execute_result"
    }
   ],
   "source": [
    "# Find the probability that exactly three will bear the loss.\n",
    "p = 0.2\n",
    "k = 3\n",
    "n = 10\n",
    "stats.binom.pmf(k=k,n=n,p=p)"
   ]
  },
  {
   "cell_type": "markdown",
   "id": "b442e179",
   "metadata": {},
   "source": [
    "### MEAN AND STANDARD DEVIATION OF BINOMIAL DISTRIBUTION"
   ]
  },
  {
   "cell_type": "code",
   "execution_count": 23,
   "id": "4a2ae330",
   "metadata": {},
   "outputs": [],
   "source": [
    "# MEAN = np\n",
    "# SD = sqrt(npq)"
   ]
  },
  {
   "cell_type": "code",
   "execution_count": 24,
   "id": "e29d9626",
   "metadata": {},
   "outputs": [
    {
     "name": "stdout",
     "output_type": "stream",
     "text": [
      "Mean: 8.0\n",
      "Std: 1.2649110640673518\n"
     ]
    }
   ],
   "source": [
    "n = 10   # sample size\n",
    "p = 0.8  # Probability of success\n",
    "q = 0.2  # probability of faliure\n",
    "print('Mean:',n*p)\n",
    "print('Std:',np.sqrt(n*p*q))"
   ]
  },
  {
   "cell_type": "code",
   "execution_count": 25,
   "id": "0f0638b4",
   "metadata": {},
   "outputs": [
    {
     "data": {
      "image/png": "[encoded data removed]",
      "text/plain": [
       "<Figure size 300x200 with 1 Axes>"
      ]
     },
     "metadata": {},
     "output_type": "display_data"
    }
   ],
   "source": [
    "n = 20   # sample size\n",
    "p = 0.8  # Probability of success\n",
    "q = 0.2  # probability of faliure\n",
    "plt.figure(figsize=(3,2))\n",
    "plt.bar(x=range(21),height=stats.binom.pmf(range(21),n=n,p=p))\n",
    "plt.axvline(n*p,color='red')\n",
    "plt.show()"
   ]
  },
  {
   "cell_type": "markdown",
   "id": "754175b3",
   "metadata": {},
   "source": [
    "### CONTINUOUS PROBABILITY DISTRIBUTION"
   ]
  },
  {
   "cell_type": "markdown",
   "id": "59259af2",
   "metadata": {},
   "source": [
    "continuous random variable is a random variable whose values are not countable. A continuous random variable can assume any value over an interval or intervals. Because the number of values contained in any interval is infinite, the possible number of  values that a continuous random variable can assume is also infinite. Moreover, we cannot count these values."
   ]
  },
  {
   "cell_type": "markdown",
   "id": "961fba32",
   "metadata": {},
   "source": [
    "The probability distribution of a continuous random variable possesses the following two \n",
    "characteristics.\n",
    "1. The probability that x assumes a value in any interval lies in the range 0 to 1.\n",
    "2. The total probability of all the (mutually exclusive) intervals within which x can assume a \n",
    "value is 1.0."
   ]
  },
  {
   "cell_type": "markdown",
   "id": "6252b62c",
   "metadata": {},
   "source": [
    "The probability that a continuous random variable x assumes a single value is always zero. "
   ]
  },
  {
   "cell_type": "markdown",
   "id": "cb9ab974",
   "metadata": {},
   "source": [
    "### NORMAL PROBABILITY DISTRIBUTION"
   ]
  },
  {
   "cell_type": "markdown",
   "id": "70783e1d",
   "metadata": {},
   "source": [
    "Normal Probability Distribution A normal probability distribution, when plotted, gives a bell-shaped curve such that:\n",
    "1. The total area under the curve is 1.0.\n",
    "2. The curve is symmetric about the mean.\n",
    "3. The two tails of the curve extend indefinitely."
   ]
  },
  {
   "cell_type": "markdown",
   "id": "710732e0",
   "metadata": {},
   "source": [
    "Standard Normal Distribution The normal distribution with μ = 0 and σ = 1 is called the standard normal distribution."
   ]
  },
  {
   "cell_type": "markdown",
   "id": "d0c17d58",
   "metadata": {},
   "source": [
    "z Values or z Scores The units marked on the horizontal axis of the standard normal curve are \n",
    "denoted by z and are called the z values or z scores. A specific value of z gives the distance \n",
    "between the mean and the point represented by z in terms of the standard deviation."
   ]
  },
  {
   "cell_type": "markdown",
   "id": "b40d7d98",
   "metadata": {},
   "source": [
    "Eg) Find the following probabilities for the standard normal curve.\n",
    "* P(1.19 < z < 2.12) \n",
    "* P(−1.56 < z < 2.31) \n",
    "* P(z > −.75)"
   ]
  },
  {
   "cell_type": "code",
   "execution_count": 26,
   "id": "47a08dc8",
   "metadata": {},
   "outputs": [
    {
     "data": {
      "text/plain": [
       "0.10002017337547597"
      ]
     },
     "execution_count": 26,
     "metadata": {},
     "output_type": "execute_result"
    }
   ],
   "source": [
    "# P(1.19 < z < 2.12)\n",
    "stats.norm.cdf(2.12) - stats.norm.cdf(1.19)"
   ]
  },
  {
   "cell_type": "code",
   "execution_count": 27,
   "id": "fddbac42",
   "metadata": {},
   "outputs": [
    {
     "data": {
      "text/plain": [
       "0.9301759823432559"
      ]
     },
     "execution_count": 27,
     "metadata": {},
     "output_type": "execute_result"
    }
   ],
   "source": [
    "# P(−1.56 < z < 2.31)\n",
    "stats.norm.cdf(2.31) - stats.norm.cdf(-1.56)"
   ]
  },
  {
   "cell_type": "code",
   "execution_count": 28,
   "id": "350394d6",
   "metadata": {},
   "outputs": [
    {
     "data": {
      "text/plain": [
       "0.7733726476231317"
      ]
     },
     "execution_count": 28,
     "metadata": {},
     "output_type": "execute_result"
    }
   ],
   "source": [
    "# P(z > −.75)\n",
    "1 - stats.norm.cdf(-0.75)"
   ]
  },
  {
   "cell_type": "code",
   "execution_count": 29,
   "id": "8770f762",
   "metadata": {},
   "outputs": [
    {
     "data": {
      "text/plain": [
       "0.7733726476231317"
      ]
     },
     "execution_count": 29,
     "metadata": {},
     "output_type": "execute_result"
    }
   ],
   "source": [
    "stats.norm.sf(-0.75)"
   ]
  },
  {
   "cell_type": "markdown",
   "id": "a8f05096",
   "metadata": {},
   "source": [
    "Q1. Most graduate schools of business require applicants for admission to take the Graduate Management \n",
    "Admission Council’s GMAT examination. Scores on the GMAT are roughly normally distributed with a \n",
    "mean of 527 and a standard deviation of 112. What is the probability of an individual scoring above 500 on \n",
    "the GMAT? \n",
    "\n",
    "Q2. The average number of acres burned by forest and range fires in a large New Mexico county is 4,300 acres \n",
    "per year, with a standard deviation of 750 acres. The distribution of the number of acres burned is normal. \n",
    "What is the probability that between 2,500 and 4,200 acres will be burned in any given year? \n",
    "\n",
    "Q3. What number of burnt acres corresponds to the 38th percentile? "
   ]
  },
  {
   "cell_type": "code",
   "execution_count": 30,
   "id": "10dbc3ba",
   "metadata": {},
   "outputs": [
    {
     "data": {
      "text/plain": [
       "0.5952501217429682"
      ]
     },
     "execution_count": 30,
     "metadata": {},
     "output_type": "execute_result"
    }
   ],
   "source": [
    "# Q1\n",
    "mean = 527\n",
    "sd = 112\n",
    "x = 500\n",
    "1-stats.norm.cdf(500,loc=mean,scale=112)"
   ]
  },
  {
   "cell_type": "code",
   "execution_count": 31,
   "id": "602cf544",
   "metadata": {},
   "outputs": [
    {
     "data": {
      "text/plain": [
       "0.5952501217429681"
      ]
     },
     "execution_count": 31,
     "metadata": {},
     "output_type": "execute_result"
    }
   ],
   "source": [
    "stats.norm.sf(500,loc=mean,scale=112)"
   ]
  },
  {
   "cell_type": "code",
   "execution_count": 32,
   "id": "1f80493a",
   "metadata": {},
   "outputs": [
    {
     "data": {
      "text/plain": [
       "0.43876734745178986"
      ]
     },
     "execution_count": 32,
     "metadata": {},
     "output_type": "execute_result"
    }
   ],
   "source": [
    "# Q2\n",
    "mean = 4300\n",
    "sd = 750\n",
    "x1 = 2500\n",
    "x2 = 4200\n",
    "stats.norm.cdf(x2,loc=mean,scale=sd) - stats.norm.cdf(x1,loc=mean,scale=sd)"
   ]
  },
  {
   "cell_type": "code",
   "execution_count": 33,
   "id": "a2f36e6e",
   "metadata": {},
   "outputs": [
    {
     "data": {
      "text/plain": [
       "4070.889408925452"
      ]
     },
     "execution_count": 33,
     "metadata": {},
     "output_type": "execute_result"
    }
   ],
   "source": [
    "# Q3\n",
    "\n",
    "# cdf z --> p\n",
    "# ppf p --> z\n",
    "\n",
    "p = 0.38\n",
    "z = stats.norm.ppf(p)\n",
    "x = (z*sd) + mean\n",
    "x"
   ]
  },
  {
   "cell_type": "markdown",
   "id": "a0fd39d3",
   "metadata": {},
   "source": [
    "### SAMPLING DISTRIBUTION"
   ]
  },
  {
   "cell_type": "markdown",
   "id": "e8c8bc72",
   "metadata": {},
   "source": [
    "For any population data set, there is only one value of the population mean, μ. However, we cannot say the same about the sample mean, x. We would expect different samples of the same size drawn from the same population to yield different values of the sample mean, x. The value of the sample mean for any one sample will depend on the elements included in that sample. Consequently, the sample mean, x, is a random variable. Therefore, like other random variables, the sample mean possesses a probability distribution, which is more commonly called the sampling distribution of x."
   ]
  },
  {
   "cell_type": "markdown",
   "id": "6bc6459d",
   "metadata": {},
   "source": [
    "#### Sampling and Nonsampling Errors"
   ]
  },
  {
   "cell_type": "markdown",
   "id": "e1d931c0",
   "metadata": {},
   "source": [
    "Sampling error is the difference between the value of a sample statistic and\n",
    "the value of the corresponding population parameter. In the case of the mean,\n",
    "* Sampling error = x − μ\n",
    "\n",
    "assuming that the sample is random and no nonsampling error has been made. "
   ]
  },
  {
   "cell_type": "markdown",
   "id": "98ba5105",
   "metadata": {},
   "source": [
    "The errors that occur in the collection, recording, and tabulation of data are called nonsampling errors. The nonsampling errors can occur both in a sample survey and in a census."
   ]
  },
  {
   "cell_type": "markdown",
   "id": "cfe12d6e",
   "metadata": {},
   "source": [
    "Mean of the Sampling Distribution of x The mean of the sampling distribution of x is always\n",
    "equal to the mean of the population. Thus,\n",
    "* μx = μ"
   ]
  },
  {
   "cell_type": "markdown",
   "id": "448ba141",
   "metadata": {},
   "source": [
    "Standard Deviation of the Sampling Distribution of x The standard deviation of the sampling\n",
    "distribution of x is\n",
    "* σx = σ/√n\n",
    "\n",
    "where σ is the standard deviation of the population and n is the sample size. This formula is used\n",
    "when n/N ≤ .05, where N is the population size."
   ]
  },
  {
   "cell_type": "markdown",
   "id": "3c7bfea1",
   "metadata": {},
   "source": [
    "Following are two important observations regarding the sampling distribution of x.\n",
    "1. The spread of the sampling distribution of x is smaller than the spread of the corresponding\n",
    "population distribution. In other words, σx < σ. This is obvious from the formula for σx.\n",
    "When n is greater than 1, which is usually true, the denominator in σ∕√n is greater than 1.\n",
    "Hence, σx is smaller than σ.\n",
    "2. The standard deviation of the sampling distribution of x decreases as the sample size\n",
    "increases. This feature of the sampling distribution of x is also obvious from the formula\n",
    "σx = σ\n",
    "√n"
   ]
  },
  {
   "cell_type": "markdown",
   "id": "c822695f",
   "metadata": {},
   "source": [
    "#### Central Limit Theorem"
   ]
  },
  {
   "cell_type": "markdown",
   "id": "dcb2aa1b",
   "metadata": {},
   "source": [
    "Central Limit Theorem According to the central limit theorem, for a large sample size, the\n",
    "sampling distribution of x is approximately normal, irrespective of the shape of the population\n",
    "distribution. The mean and standard deviation of the sampling distribution of x are, respectively,\n",
    "μx = μ and σx = σ\n",
    "√n\n",
    "In case of the mean, the sample size is usually considered to be large if n ≥ 30."
   ]
  },
  {
   "cell_type": "markdown",
   "id": "82544c7e",
   "metadata": {},
   "source": [
    "Q1 In a survey of a company, mean salary of employees is 6066 dollars with SD of 2875 dollars. Consider  the sample of 40 employees and find the probability their mean salary will be less than 6000 dollars?\n",
    "\n",
    "Q2. There are 250 dogs at a dog show whose average weight is 12 pounds, with sd of 8 pounds. If 4 dogs are choosed at random what is the prob that they have an average weight greater than 8 pounds.\n",
    "\n",
    "Q3. A fertilizer company manufacture organic fertilizers in 10 pound bags with sd of 1.25 pounds. What is the prob that a random sample of 15 bags will have the mean between 9 and 9.5 pounds."
   ]
  },
  {
   "cell_type": "code",
   "execution_count": 35,
   "id": "a350c662",
   "metadata": {},
   "outputs": [
    {
     "data": {
      "text/plain": [
       "0.4422805127868069"
      ]
     },
     "execution_count": 35,
     "metadata": {},
     "output_type": "execute_result"
    }
   ],
   "source": [
    "# Q1\n",
    "mu = 6066   # pop mean\n",
    "sd = 2875   # pop std\n",
    "n = 40      # sample size\n",
    "x_bar = 6000 # sample mean\n",
    "se = sd/np.sqrt(n)  # standard error\n",
    "stats.norm.cdf(x_bar,loc=mu,scale=se)"
   ]
  },
  {
   "cell_type": "code",
   "execution_count": 36,
   "id": "80ac79d4",
   "metadata": {},
   "outputs": [
    {
     "data": {
      "text/plain": [
       "0.8413447460685429"
      ]
     },
     "execution_count": 36,
     "metadata": {},
     "output_type": "execute_result"
    }
   ],
   "source": [
    "mu = 12   # pop mean\n",
    "sd = 8   # pop std\n",
    "n = 4      # sample size\n",
    "x_bar = 8 # sample mean\n",
    "se = sd/np.sqrt(n)  # standard error\n",
    "1 - stats.norm.cdf(x_bar,loc=mu,scale=se)"
   ]
  },
  {
   "cell_type": "code",
   "execution_count": 37,
   "id": "7354c658",
   "metadata": {},
   "outputs": [
    {
     "data": {
      "text/plain": [
       "0.8413447460685429"
      ]
     },
     "execution_count": 37,
     "metadata": {},
     "output_type": "execute_result"
    }
   ],
   "source": [
    "stats.norm.sf(x_bar,loc=mu,scale=se)"
   ]
  },
  {
   "cell_type": "code",
   "execution_count": 38,
   "id": "42b063d0",
   "metadata": {},
   "outputs": [
    {
     "data": {
      "text/plain": [
       "0.05969473833237148"
      ]
     },
     "execution_count": 38,
     "metadata": {},
     "output_type": "execute_result"
    }
   ],
   "source": [
    "# Q3\n",
    "mu = 10   # pop mean\n",
    "sd = 1.25  # pop std\n",
    "n = 15      # sample size\n",
    "x_bar1 = 9\n",
    "x_bar2 = 9.5 # sample mean\n",
    "se = sd/np.sqrt(n)  # standard error\n",
    "stats.norm.cdf(x_bar2,loc=mu,scale=se) - stats.norm.cdf(x_bar1,loc=mu,scale=se)"
   ]
  },
  {
   "cell_type": "markdown",
   "id": "eed73d31",
   "metadata": {},
   "source": [
    "### EMPIRICAL RULE"
   ]
  },
  {
   "cell_type": "markdown",
   "id": "4c545ec0",
   "metadata": {},
   "source": [
    "<img src=\"https://1.bp.blogspot.com/-RoWUojEiszE/X7ZYOmIB1LI/AAAAAAAAAJ4/x0eRiLJvKhM0HoHNpng1sL9SH7Bd4RDFgCLcBGAsYHQ/s2508/emperic%2Brule.png\"  width=\"50%\" height=\"30%\">"
   ]
  },
  {
   "cell_type": "code",
   "execution_count": 39,
   "id": "9c559a10",
   "metadata": {},
   "outputs": [
    {
     "data": {
      "text/plain": [
       "0.6826894921370859"
      ]
     },
     "execution_count": 39,
     "metadata": {},
     "output_type": "execute_result"
    }
   ],
   "source": [
    "stats.norm.cdf(1)-stats.norm.cdf(-1)"
   ]
  },
  {
   "cell_type": "code",
   "execution_count": 40,
   "id": "a02d1842",
   "metadata": {},
   "outputs": [
    {
     "data": {
      "text/plain": [
       "0.9544997361036416"
      ]
     },
     "execution_count": 40,
     "metadata": {},
     "output_type": "execute_result"
    }
   ],
   "source": [
    "stats.norm.cdf(2)-stats.norm.cdf(-2)"
   ]
  },
  {
   "cell_type": "code",
   "execution_count": 41,
   "id": "39cd54d6",
   "metadata": {},
   "outputs": [
    {
     "data": {
      "text/plain": [
       "0.9973002039367398"
      ]
     },
     "execution_count": 41,
     "metadata": {},
     "output_type": "execute_result"
    }
   ],
   "source": [
    "stats.norm.cdf(3)-stats.norm.cdf(-3)"
   ]
  },
  {
   "cell_type": "markdown",
   "id": "10999f30",
   "metadata": {},
   "source": [
    "### What if the distribution is not Known"
   ]
  },
  {
   "cell_type": "markdown",
   "id": "691ed054",
   "metadata": {},
   "source": [
    "### Chebyshev's Rule"
   ]
  },
  {
   "cell_type": "markdown",
   "id": "3e85f583",
   "metadata": {},
   "source": [
    "<img src=\"https://www.basic-mathematics.com/images/Chebyshevs-theorem.png\"  width=\"50%\" height=\"30%\">"
   ]
  },
  {
   "cell_type": "code",
   "execution_count": 42,
   "id": "83d2d8ad",
   "metadata": {},
   "outputs": [
    {
     "name": "stdout",
     "output_type": "stream",
     "text": [
      "We have atleast 75.0 % data in 2 sd\n"
     ]
    }
   ],
   "source": [
    "# Let's say We don't know the distribution of data\n",
    "# We want to calculate how much data is there between 2nd sd\n",
    "k=2\n",
    "perc=(1-(1/k**2))*100\n",
    "print('We have atleast',perc,'% data in',k,'sd')"
   ]
  }
 ],
 "metadata": {
  "kernelspec": {
   "display_name": "Python 3 (ipykernel)",
   "language": "python",
   "name": "python3"
  },
  "language_info": {
   "codemirror_mode": {
    "name": "ipython",
    "version": 3
   },
   "file_extension": ".py",
   "mimetype": "text/x-python",
   "name": "python",
   "nbconvert_exporter": "python",
   "pygments_lexer": "ipython3",
   "version": "3.11.5"
  }
 },
 "nbformat": 4,
 "nbformat_minor": 5
}
