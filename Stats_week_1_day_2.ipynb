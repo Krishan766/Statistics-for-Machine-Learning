{
 "cells": [
  {
   "cell_type": "markdown",
   "id": "a13a5724",
   "metadata": {
    "id": "a13a5724"
   },
   "source": [
    "**Let us import the required libraries.**"
   ]
  },
  {
   "cell_type": "code",
   "execution_count": 1,
   "id": "47c3cfd9",
   "metadata": {
    "id": "47c3cfd9"
   },
   "outputs": [],
   "source": [
    "import scipy.stats as stats\n",
    "import numpy as np\n",
    "import pandas as pd\n",
    "import random"
   ]
  },
  {
   "cell_type": "markdown",
   "id": "80017839",
   "metadata": {
    "id": "80017839"
   },
   "source": [
    "<a id=\"est\"></a>\n",
    "#  Parameter Estimation"
   ]
  },
  {
   "cell_type": "markdown",
   "id": "712e48a6",
   "metadata": {
    "id": "712e48a6"
   },
   "source": [
    "The value associated with the characteristic of the population is known as a `parameter` and the characteristic of the sample is described by a `statistic`.\n",
    "Usually, the population parameters are not known in most of the real-life problems. Thus, we consider a subset of the population (sample) to estimate the population parameter using a sample statistic.\n",
    "\n",
    "`Point estimation` and `Interval estimation` are two of the methods to estimate the population parameter."
   ]
  },
  {
   "cell_type": "markdown",
   "id": "57382f3d",
   "metadata": {
    "id": "57382f3d"
   },
   "source": [
    "<a id=\"pt\"></a>\n",
    "## Point Estimation"
   ]
  },
  {
   "cell_type": "markdown",
   "id": "f3ff7201",
   "metadata": {
    "id": "f3ff7201"
   },
   "source": [
    "This method considers a single value (sample statistic) as estimate of the population parameter. \n",
    "\n",
    "Let $X_{1}, X_{2}, X_{3},..., X_{n}$ be the random sample drawn from a population with mean $\\mu$ and standard deviation $\\sigma$. <br>\n",
    "The point estimation method estimates the population mean, $\\mu = \\overline{X}$, where $\\overline{X}$ is the sample mean and population standard deviation, $\\sigma = s$, where $s$ is the standard deviation of the sample (`Standard Error`)."
   ]
  },
  {
   "cell_type": "markdown",
   "id": "0b69a8ab",
   "metadata": {
    "id": "0b69a8ab"
   },
   "source": [
    "### Example:\n",
    "\n",
    "#### 1. Consider the data of grade points for 35 students in a data science course. Select grades of 20 students randomly from the data and find the point estimate for the population mean.\n",
    "\n",
    "     Grades: [59.1, 65.0, 75.8, 79.2, 95.0, 99.8, 89.1, 65.2, 41.9, 55.2, 94.8, 84.1, 83.2, 74.0, 75.5, 76.2, 79.1, 80.1, \n",
    "              92.1, 74.2, 59.2, 64.0, 75, 78.2, 95.6, 97.8, 89.5, 64.2, 41.8, 57.2, 85, 91.4, 81.8, 74.6, 90]"
   ]
  },
  {
   "cell_type": "code",
   "execution_count": 2,
   "id": "9dd7ac73",
   "metadata": {},
   "outputs": [],
   "source": [
    "Grades=[59.1, 65.0, 75.8, 79.2, 95.0, 99.8, 89.1, 65.2, 41.9, 55.2, 94.8, 84.1, 83.2, 74.0, 75.5, 76.2, 79.1, 80.1, \n",
    "          92.1, 74.2, 59.2, 64.0, 75, 78.2, 95.6, 97.8, 89.5, 64.2, 41.8, 57.2, 85, 91.4, 81.8, 74.6, 90]"
   ]
  },
  {
   "cell_type": "code",
   "execution_count": 3,
   "id": "1260fe24",
   "metadata": {},
   "outputs": [
    {
     "name": "stdout",
     "output_type": "stream",
     "text": [
      "Point estimate of population mean: 76.68285714285715\n"
     ]
    }
   ],
   "source": [
    "# Point Estimation\n",
    "sample_mean=np.mean(Grades)\n",
    "pop_mean=sample_mean\n",
    "print('Point estimate of population mean:',pop_mean)"
   ]
  },
  {
   "cell_type": "code",
   "execution_count": 4,
   "id": "580d0c21",
   "metadata": {},
   "outputs": [
    {
     "name": "stdout",
     "output_type": "stream",
     "text": [
      "Point estimate of population SD: 14.795336827417437\n"
     ]
    }
   ],
   "source": [
    "print('Point estimate of population SD:',np.std(Grades))"
   ]
  },
  {
   "cell_type": "markdown",
   "id": "348088a2",
   "metadata": {
    "id": "348088a2"
   },
   "source": [
    "#### 2. A financial firm has created 50 portfolios. From them, a sample of 13 portfolios was selected, out of which 8 were found to be underperforming. Can you estimate the number of underperforming portfolios in the population?"
   ]
  },
  {
   "cell_type": "code",
   "execution_count": 5,
   "id": "f4711cab",
   "metadata": {},
   "outputs": [
    {
     "data": {
      "text/plain": [
       "30.76923076923077"
      ]
     },
     "execution_count": 5,
     "metadata": {},
     "output_type": "execute_result"
    }
   ],
   "source": [
    "prob_sample=8/13\n",
    "prob_population=50*prob_sample\n",
    "prob_population"
   ]
  },
  {
   "cell_type": "markdown",
   "id": "ab9fc2ed",
   "metadata": {
    "id": "ab9fc2ed"
   },
   "source": [
    "<a id=\"err\"></a>\n",
    "###  Sampling Error"
   ]
  },
  {
   "cell_type": "markdown",
   "id": "288d61b1",
   "metadata": {
    "id": "288d61b1"
   },
   "source": [
    "Sampling error is considered as the absolute difference between the sample statistic used to estimate the parameter and the corresponding population parameter. Since the entire population is not considered as the sample, the values of mean, median, quantiles, and so on calculated on sample differ from the actual population values. \n",
    "\n",
    "One can reduce the sampling error either by increasing the sample size or determining the optimal sample size using various methods."
   ]
  },
  {
   "cell_type": "markdown",
   "id": "5c29b716",
   "metadata": {
    "id": "5c29b716"
   },
   "source": [
    "#### 1. Consider the data for the number of ice-creams sold per day. An ice-cream vendor collected this data for 90 days and then a sample is drawn (without replacement) containing ice-creams sold for 25 days. \n",
    "\n",
    "data = [21, 93, 62, 76, 73, 20, 56, 95, 41, 36, 38, 13, 80, 88, 34, 18, 40, 11, \n",
    "        25, 29, 61, 23, 82, 10, 92, 69, 60, 87, 14, 91, 94, 49, 57, 83, 96, 55, \n",
    "        79, 52, 59, 39, 58, 17, 19, 98, 15, 54, 48, 46, 72, 45, 65, 28, 37, 30, \n",
    "        68, 75, 16, 33, 31, 99, 22, 51, 27, 67, 85, 47, 44, 77, 64, 97, 84, 42, \n",
    "        90, 70, 74, 89, 32, 26, 24, 12, 81, 53, 50, 35, 71, 63, 43, 86, 78, 66]\n",
    "        \n",
    "sample = [10, 22, 47, 66, 11, 57, 77, 98, 31, 63, 74, 84, 50, 96, 88, 92, 70, 54, 65, 44, 16, 72, 20, 90, 43]\n",
    "\n",
    "Comupte the sampling error for mean."
   ]
  },
  {
   "cell_type": "code",
   "execution_count": 6,
   "id": "613f5fe3",
   "metadata": {},
   "outputs": [],
   "source": [
    "data = [21, 93, 62, 76, 73, 20, 56, 95, 41, 36, 38, 13, 80, 88, 34, 18, 40, \n",
    "        11, 25, 29, 61, 23, 82, 10, 92, 69, 60, 87, 14, 91, 94, 49, 57, 83, 96, 55, 79, \n",
    "        52, 59, 39, 58, 17, 19, 98, 15, 54, 48, 46, 72, 45, 65, 28, 37, 30, 68, 75, 16, \n",
    "        33, 31, 99, 22, 51, 27, 67, 85, 47, 44, 77, 64, 97, 84, 42, 90, 70, 74, 89, 32, 26, \n",
    "        24, 12, 81, 53, 50, 35, 71, 63, 43, 86, 78, 66]\n",
    "\n",
    "sample = [10, 22, 47, 66, 11, 57, 77, 98, 31, 63, 74, 84, 50, 96, 88, 92, 70, 54, 65, 44, 16, 72, 20, 90, 43]"
   ]
  },
  {
   "cell_type": "code",
   "execution_count": 7,
   "id": "c36910b5",
   "metadata": {},
   "outputs": [
    {
     "name": "stdout",
     "output_type": "stream",
     "text": [
      "Sampling Error is -3.1000000000000014\n"
     ]
    }
   ],
   "source": [
    "print('Sampling Error for mean',np.mean(data)-np.mean(sample))"
   ]
  },
  {
   "cell_type": "markdown",
   "id": "6042a6e1",
   "metadata": {
    "id": "6042a6e1"
   },
   "source": [
    "<a id=\"int\"></a>\n",
    "## Interval Estimation for Mean"
   ]
  },
  {
   "cell_type": "markdown",
   "id": "d031528f",
   "metadata": {
    "id": "d031528f"
   },
   "source": [
    "This method considers the range of values in which the population parameter is likely to lie. The confidence interval is an interval that describes the range of values in which the parameter lies with a specific probability. It is given by the formula,<br> <p style='text-indent:20em'> `conf_interval = sample statistic ± margin of error`</p>\n",
    "\n",
    "The uncertainty of an estimate is described by the `confidence level` which is used to calculate the margin of error. "
   ]
  },
  {
   "cell_type": "markdown",
   "id": "06af1d83",
   "metadata": {
    "id": "06af1d83"
   },
   "source": [
    "<a id=\"large\"></a>\n",
    "### 2.2.1 Large Sample Size"
   ]
  },
  {
   "cell_type": "markdown",
   "id": "2318980f",
   "metadata": {
    "id": "2318980f"
   },
   "source": [
    "Consider a population with mean $\\mu$ and standard deviation $\\sigma$. Let us take a sample of `n` observations from the population such that, $n \\geq 30$. The central limit theorem states that the sampling distribution of mean follows a normal distribution with mean $\\mu$ and standard deviation $\\frac{\\sigma}{\\sqrt(n)}$."
   ]
  },
  {
   "cell_type": "markdown",
   "id": "4bb13921",
   "metadata": {
    "id": "4bb13921"
   },
   "source": [
    "The confidence interval for the population mean with $100(1-\\alpha)$% confidence level is given as: $\\overline{X} \\pm Z_{\\frac{\\alpha}{2}}\\frac{\\sigma}{\\sqrt{n}}$\n",
    "\n",
    "Where, <br>\n",
    "$\\overline{X}$: Sample mean<br>\n",
    "$\\alpha$: Level of significance<br>\n",
    "$\\sigma$: Population standard deviation<br>\n",
    "$n$: Sample size\n",
    "\n",
    "The quantity $\\frac{\\sigma}{\\sqrt{n}}$ is the standard error of the mean. And the margin of error is given by $Z_{\\frac{\\alpha}{2}}\\frac{\\sigma}{\\sqrt{n}}$.\n",
    "\n",
    "If we know the expected margin of error (ME), then we can calculate the required sample size (n) using the formula: $n = (Z_{\\frac{\\alpha}{2}})^{2}\\frac{\\sigma^{2}}{ME^{2}}$.\n",
    " \n",
    "The above equation is valid for any population provided the sample size is sufficiently large (usually $n \\geq 30$). Relace $\\sigma$ by the standard deviation of the sample ($s$) if the population standard deviation is not known.\n",
    "\n",
    "The value of $Z_{\\frac{\\alpha}{2}}$ for different $\\alpha$ values can be obtained using the `stats.norm.isf()` from the scipy library. "
   ]
  },
  {
   "cell_type": "markdown",
   "id": "90bb9425",
   "metadata": {
    "id": "90bb9425"
   },
   "source": [
    "To calculate the confidence interval with 95% confidence, use the Z-value corresponding to `alpha = 0.05`. "
   ]
  },
  {
   "cell_type": "code",
   "execution_count": 9,
   "id": "fafa1573",
   "metadata": {},
   "outputs": [
    {
     "name": "stdout",
     "output_type": "stream",
     "text": [
      "At 0.1 alpha. Confidence level 90.0 interval is[-1.64  1.64]\n",
      "At 0.05 alpha. Confidence level 95.0 interval is[-1.96  1.96]\n",
      "At 0.02 alpha. Confidence level 98.0 interval is[-2.33  2.33]\n",
      "At 0.01 alpha. Confidence level 99.0 interval is[-2.58  2.58]\n"
     ]
    }
   ],
   "source": [
    "alpha=[0.1,0.05,0.02,0.01]\n",
    "for a in alpha:\n",
    "    z_alpha_by_2=stats.norm.interval(1-a)\n",
    "    z_alpha_by_2=np.round(z_alpha_by_2,2)\n",
    "    print(f'At {a} alpha. Confidence level {(1-a)*100} interval is{z_alpha_by_2}')"
   ]
  },
  {
   "cell_type": "code",
   "execution_count": 7,
   "id": "b0d681f0",
   "metadata": {},
   "outputs": [
    {
     "data": {
      "text/plain": [
       "-1.8119106729525982"
      ]
     },
     "execution_count": 7,
     "metadata": {},
     "output_type": "execute_result"
    }
   ],
   "source": [
    "# What is z alpha by 2 at 93% confindece level\n",
    "cl=0.93\n",
    "alpha=1-cl\n",
    "stats.norm.ppf(alpha/2)"
   ]
  },
  {
   "cell_type": "markdown",
   "id": "8d9b372f",
   "metadata": {
    "id": "8d9b372f"
   },
   "source": [
    "\n",
    "#### 1. A random sample of weight (in kg.) for 35 diabetic patients is drawn from the population with a standard deviation of 8 kg. Find the 90% confidence interval for the population mean.\n",
    "\n",
    "    Weight: [59.1, 65.0, 75.8, 79.2, 95.0, 99.8, 89.1, 65.3, 41.9, 55.2, 94.8, 84.1, 83.2, 74.0, 75.5, 76.2, 79.1, 80.1, \n",
    "             92.1, 74.2, 59.2, 64.0, 75, 78.2, 95.6, 97.8, 89.5, 64.2, 41.8, 57.2, 85, 91.4, 81.8, 74.6, 90]"
   ]
  },
  {
   "cell_type": "code",
   "execution_count": 10,
   "id": "f4df075b",
   "metadata": {},
   "outputs": [],
   "source": [
    "Weight=[59.1, 65.0, 75.8, 79.2, 95.0, 99.8, 89.1, 65.3, 41.9, 55.2, 94.8, 84.1, 83.2, 74.0, 75.5, 76.2, 79.1, 80.1, \n",
    "         92.1, 74.2, 59.2, 64.0, 75, 78.2, 95.6, 97.8, 89.5, 64.2, 41.8, 57.2, 85, 91.4, 81.8, 74.6, 90]"
   ]
  },
  {
   "cell_type": "code",
   "execution_count": 11,
   "id": "e6e6b319",
   "metadata": {},
   "outputs": [
    {
     "name": "stdout",
     "output_type": "stream",
     "text": [
      "74.46146621975642 to 78.90996235167215 with 90% confindence)\n"
     ]
    }
   ],
   "source": [
    "sigma=8\n",
    "cl=0.9\n",
    "n=35\n",
    "alpha=1-cl\n",
    "# sample statistic\n",
    "x_bar=np.mean(Weight)\n",
    "\n",
    "# moe\n",
    "z_alpha_by2=np.abs(stats.norm.isf(alpha/2))\n",
    "se=sigma/(np.sqrt(n))\n",
    "moe=z_alpha_by2*se\n",
    "\n",
    "# Confidence interval\n",
    "print(f'{x_bar-moe} to {x_bar+moe} with 90% confindence)')"
   ]
  },
  {
   "cell_type": "code",
   "execution_count": 12,
   "id": "39cae422",
   "metadata": {},
   "outputs": [
    {
     "data": {
      "text/plain": [
       "(74.46146621975642, 78.90996235167215)"
      ]
     },
     "execution_count": 12,
     "metadata": {},
     "output_type": "execute_result"
    }
   ],
   "source": [
    "cl=0.9\n",
    "x_bar=np.mean(Weight) \n",
    "sigma=8\n",
    "n=35\n",
    "\n",
    "stats.norm.interval(confidence=cl,loc=x_bar,scale=sigma/np.sqrt(n))"
   ]
  },
  {
   "cell_type": "markdown",
   "id": "db931e70",
   "metadata": {
    "id": "db931e70"
   },
   "source": [
    "#### 2. There are 150 apples on a tree. You randomly choose 40 apples and found that the average weight of apples is 182 grams with  pop standard deviation of 30 grams. Find the 95% confidence interval for the population mean."
   ]
  },
  {
   "cell_type": "code",
   "execution_count": 20,
   "id": "a3b87a32",
   "metadata": {},
   "outputs": [
    {
     "name": "stdout",
     "output_type": "stream",
     "text": [
      "172.70307451543158 to 191.29692548456842 with 95% confindence)\n"
     ]
    }
   ],
   "source": [
    "sigma=30\n",
    "cl=0.95\n",
    "n=40\n",
    "alpha=1-cl\n",
    "# sample statistic\n",
    "x_bar=182\n",
    "# moe\n",
    "z_alpha_by2=np.abs(stats.norm.ppf(alpha/2))\n",
    "se=sigma/(np.sqrt(n))\n",
    "moe=z_alpha_by2*se\n",
    "\n",
    "# Confidence interval\n",
    "print(f'{x_bar-moe} to {x_bar+moe} with 95% confindence)')"
   ]
  },
  {
   "cell_type": "code",
   "execution_count": 14,
   "id": "7a79d583",
   "metadata": {},
   "outputs": [
    {
     "data": {
      "text/plain": [
       "(172.70307451543158, 191.29692548456842)"
      ]
     },
     "execution_count": 14,
     "metadata": {},
     "output_type": "execute_result"
    }
   ],
   "source": [
    "cl=0.95\n",
    "x_bar=182\n",
    "sigma=30\n",
    "n=40\n",
    "\n",
    "stats.norm.interval(confidence=cl,loc=x_bar,scale=sigma/np.sqrt(n))"
   ]
  },
  {
   "cell_type": "markdown",
   "id": "d2f91c98",
   "metadata": {
    "id": "d2f91c98"
   },
   "source": [
    "#### 3. A movie production house needs to estimate the average monthly wage of the technical crew members. The previous data shows that the standard deviation of the wages is 190 dollars. The production team thinks that the estimation of the average wage should not exceed 54 dollars. The team has decided to take a small subset of wages for the estimation. Find a suitable number of wages to be considered to get the estimate with 90% confidence."
   ]
  },
  {
   "cell_type": "code",
   "execution_count": 15,
   "id": "988658c9",
   "metadata": {},
   "outputs": [
    {
     "name": "stdout",
     "output_type": "stream",
     "text": [
      "Sample size should be 33.49455373554338\n"
     ]
    }
   ],
   "source": [
    "sigma=190\n",
    "moe=54\n",
    "cl=0.9\n",
    "alpha=1-cl\n",
    "z_alpha_by2=np.abs(stats.norm.ppf(alpha/2))\n",
    "# moe = z*(sigma/n**2)\n",
    "# n=z**2 * (sigma**2)/moe**2\n",
    "\n",
    "n=(z_alpha_by2 **2)*((sigma**2)/moe**2)\n",
    "print('Sample size should be',n)\n"
   ]
  },
  {
   "cell_type": "raw",
   "id": "e7c24fb5",
   "metadata": {},
   "source": [
    "According to a 2013 study by Moebs Services Inc., an individual checking account at major U.S. banks costs the banks more than $380 per year. A recent random sample of 600 such checking accounts produced a mean annual cost of $500 to major U.S. banks. Assume that the standard deviation of annual costs to major U.S. banks of all such checking accounts is $40. Make a 99% confi- dence interval for the current mean annual cost to major U.S. banks of all such checking accounts."
   ]
  },
  {
   "cell_type": "code",
   "execution_count": 25,
   "id": "a618ba44",
   "metadata": {},
   "outputs": [
    {
     "data": {
      "text/plain": [
       "(495.7936883611978, 504.2063116388022)"
      ]
     },
     "execution_count": 25,
     "metadata": {},
     "output_type": "execute_result"
    }
   ],
   "source": [
    "x_bar=500\n",
    "n=600\n",
    "sigma=40\n",
    "cl=0.99\n",
    "stats.norm.interval(cl,loc=x_bar,scale=sigma/(np.sqrt(n)))"
   ]
  },
  {
   "cell_type": "code",
   "execution_count": 16,
   "id": "05575771",
   "metadata": {},
   "outputs": [
    {
     "name": "stdout",
     "output_type": "stream",
     "text": [
      "495.7936883611978 to 504.2063116388022 with 95% confindence)\n"
     ]
    }
   ],
   "source": [
    "sigma=40\n",
    "cl=0.99\n",
    "n=600\n",
    "alpha=1-cl\n",
    "# sample statistic\n",
    "x_bar=500\n",
    "# moe\n",
    "z_alpha_by2=np.abs(stats.norm.ppf(alpha/2))\n",
    "se=sigma/(np.sqrt(n))\n",
    "moe=z_alpha_by2*se\n",
    "\n",
    "# Confidence interval\n",
    "print(f'{x_bar-moe} to {x_bar+moe} with 95% confindence)')"
   ]
  },
  {
   "cell_type": "markdown",
   "id": "b667d315",
   "metadata": {
    "id": "ebfd90df"
   },
   "source": [
    "#### 4. 100 bags of coal were tested and had an average of 35% of ash with a standard deviation of 15%. Calculate the margin of error for a 95% confidence level."
   ]
  },
  {
   "cell_type": "code",
   "execution_count": 17,
   "id": "2d7511e2",
   "metadata": {},
   "outputs": [
    {
     "data": {
      "text/plain": [
       "(32.02367457273698, 37.97632542726302)"
      ]
     },
     "execution_count": 17,
     "metadata": {},
     "output_type": "execute_result"
    }
   ],
   "source": [
    "cl=0.95\n",
    "x_bar=35\n",
    "n=100\n",
    "df=n-1\n",
    "s=15\n",
    "se=s/(np.sqrt(n))\n",
    "stats.t.interval(confidence=cl,loc=x_bar,scale=se,df=df)"
   ]
  },
  {
   "cell_type": "markdown",
   "id": "fe48b0f7",
   "metadata": {
    "id": "fe48b0f7"
   },
   "source": [
    "#### 5. From a sample of 250 observations, it is found that the average income of a 27 year old Londoner is £45,000 with a sample standard deviation of £4000. Obtain the 95% confidence interval to estimate the average income."
   ]
  },
  {
   "cell_type": "code",
   "execution_count": 2,
   "id": "dea39fdd",
   "metadata": {},
   "outputs": [
    {
     "name": "stdout",
     "output_type": "stream",
     "text": [
      "Margin of Error 498.2577949931726\n",
      "Confidence Interval 44501.74220500683 45498.25779499317\n"
     ]
    }
   ],
   "source": [
    "s=4000\n",
    "cl=0.95\n",
    "n=250\n",
    "dof=n-1\n",
    "alpha=1-cl\n",
    "x_bar=45000\n",
    "se=s/(np.sqrt(n))\n",
    "t_alphaby2 = np.abs(stats.t.ppf(alpha/2,df=dof))\n",
    "moe=t_alphaby2*se\n",
    "print('Margin of Error',moe)\n",
    "print('Confidence Interval',x_bar-moe,x_bar+moe)"
   ]
  },
  {
   "cell_type": "code",
   "execution_count": 19,
   "id": "5c7af478",
   "metadata": {},
   "outputs": [
    {
     "data": {
      "text/plain": [
       "(44501.74220500683, 45498.25779499317)"
      ]
     },
     "execution_count": 19,
     "metadata": {},
     "output_type": "execute_result"
    }
   ],
   "source": [
    "stats.t.interval(confidence=cl,loc=x_bar,scale=se,df=dof)"
   ]
  },
  {
   "cell_type": "markdown",
   "id": "75437147",
   "metadata": {
    "id": "75437147"
   },
   "source": [
    "<a id=\"small\"></a>\n",
    "### Small Sample Size"
   ]
  },
  {
   "cell_type": "markdown",
   "id": "4af93af3",
   "metadata": {
    "id": "4af93af3"
   },
   "source": [
    "Let us take a sample of `n` observations from the population such that, $n < 30$. Here the standard deviation of the population is unknown. The confidence interval for the population mean with $100(1-\\alpha)$% confidence level is given as: $\\overline{X} \\pm t_{\\frac{\\alpha}{2}, n-1}\\frac{s}{\\sqrt{n}}$\n",
    "\n",
    "Where, <br>\n",
    "$\\overline{X}$: Sample mean<br>\n",
    "$\\alpha$: Level of significance<br>\n",
    "$s$: Sample standard deviation<br>\n",
    "$n-1$: degrees of freedom\n",
    "\n",
    "The ratio $\\frac{s}{\\sqrt{n}}$ is the estimate of the standard error of the mean. And $t_{\\frac{\\alpha}{2}, n-1}\\frac{s}{\\sqrt{n}}$ is the margin of error for the estimate.\n",
    "\n",
    "The value of $t_{\\frac{\\alpha}{2}, n-1}$ for different $\\alpha$ values can be obtained using the `stats.t.isf()` from the scipy library.  "
   ]
  },
  {
   "cell_type": "code",
   "execution_count": 20,
   "id": "0699056b",
   "metadata": {},
   "outputs": [
    {
     "name": "stdout",
     "output_type": "stream",
     "text": [
      "t interval at alpha/2 and df 14 with cl 99.0 = [-2.98  2.98] \n",
      "t interval at alpha/2 and df 14 with cl 98.0 = [-2.62  2.62] \n",
      "t interval at alpha/2 and df 14 with cl 95.0 = [-2.14  2.14] \n",
      "t interval at alpha/2 and df 14 with cl 90.0 = [-1.76  1.76] \n"
     ]
    }
   ],
   "source": [
    "# Lets calculate the t_alpha/2 for diferent CL\n",
    "# Lets assume n=15\n",
    "n=15\n",
    "df=n-1\n",
    "cl=[0.99,0.98,0.95,0.90]\n",
    "for i in cl:\n",
    "    inter=stats.t.interval(confidence=i,df=df)\n",
    "    print(f't interval at alpha/2 and df {df} with cl {i*100} = {np.round(inter,2)} ')"
   ]
  },
  {
   "cell_type": "code",
   "execution_count": 21,
   "id": "a6654dc1",
   "metadata": {},
   "outputs": [
    {
     "data": {
      "text/plain": [
       "1.833112932653634"
      ]
     },
     "execution_count": 21,
     "metadata": {},
     "output_type": "execute_result"
    }
   ],
   "source": [
    "# T_alpha/2 at cl =90 and n=10\n",
    "cl=0.9\n",
    "alpha=1-cl\n",
    "n=10\n",
    "df=n-1\n",
    "np.abs(stats.t.ppf(alpha/2,df=df))"
   ]
  },
  {
   "cell_type": "markdown",
   "id": "9390028c",
   "metadata": {
    "id": "9390028c"
   },
   "source": [
    "#### 1. There are 150 apples on a tree. You randomly choose 17 apples and found that the average weight of apples is 78 grams with a standard deviation of 23 grams. Find the 90% confidence interval for the population mean."
   ]
  },
  {
   "cell_type": "code",
   "execution_count": 22,
   "id": "39ddb00f",
   "metadata": {},
   "outputs": [
    {
     "data": {
      "text/plain": [
       "(68.26090326067306, 87.73909673932694)"
      ]
     },
     "execution_count": 22,
     "metadata": {},
     "output_type": "execute_result"
    }
   ],
   "source": [
    "n=17\n",
    "dof=16\n",
    "cl=0.9\n",
    "alpha=1-cl\n",
    "\n",
    "x_bar=78\n",
    "s=23\n",
    "se=s/(np.sqrt(n))\n",
    "\n",
    "stats.t.interval(confidence=cl,df=dof,loc=x_bar,scale=se)"
   ]
  },
  {
   "cell_type": "markdown",
   "id": "bbcfeed9",
   "metadata": {
    "id": "bbcfeed9"
   },
   "source": [
    "<a id=\"prop\"></a>\n",
    "## Interval Estimation for Proportion"
   ]
  },
  {
   "cell_type": "markdown",
   "id": "cafc43e6",
   "metadata": {
    "id": "cafc43e6"
   },
   "source": [
    "Consider a population in which each observation is either a success or a failure. The population proportion is denoted by `P` which the ratio of the number of successes to the size of the population.\n",
    "\n",
    "The confidence interval for the population proportion with $100(1-\\alpha)$% confidence level is given as: $p \\pm Z_{\\frac{\\alpha}{2}}\\sqrt{\\frac{p(1 - p)}{n}}$\n",
    "\n",
    "Where, <br>\n",
    "$p$: Sample proportion<br>\n",
    "$\\alpha$: Level of significance<br>\n",
    "$n$: Sample size\n",
    "\n",
    "The quantity $Z_{\\frac{\\alpha}{2}}\\sqrt{\\frac{p(1 - p)}{n}}$ is the margin of error."
   ]
  },
  {
   "cell_type": "markdown",
   "id": "58dc10e7",
   "metadata": {
    "id": "58dc10e7"
   },
   "source": [
    "#### 1. A financial firm has created 50 portfolios. From them, a sample of 13 portfolios was selected, out of which 8 were found to be underperforming. Construct a 99% confidence interval to estimate the population proportion."
   ]
  },
  {
   "cell_type": "code",
   "execution_count": 8,
   "id": "95cc1f70",
   "metadata": {},
   "outputs": [],
   "source": [
    "import statsmodels.stats.proportion as proportion"
   ]
  },
  {
   "cell_type": "code",
   "execution_count": 27,
   "id": "9ed57852",
   "metadata": {},
   "outputs": [
    {
     "name": "stdout",
     "output_type": "stream",
     "text": [
      "Population Proportion Interval 0.26782280814713805 0.9629464226220927\n"
     ]
    }
   ],
   "source": [
    "p=8/13\n",
    "n=13\n",
    "se=np.sqrt(p*(1-p)/n)\n",
    "cl=0.99\n",
    "alpha=1-cl\n",
    "z_alpha_by2=np.abs(stats.norm.ppf(alpha/2))\n",
    "moe=z_alpha_by2*se\n",
    "print('Population Proportion Interval',p-moe,p+moe)"
   ]
  },
  {
   "cell_type": "code",
   "execution_count": 28,
   "id": "4274650f",
   "metadata": {},
   "outputs": [
    {
     "data": {
      "text/plain": [
       "(0.26782280814713794, 0.962946422622093)"
      ]
     },
     "execution_count": 28,
     "metadata": {},
     "output_type": "execute_result"
    }
   ],
   "source": [
    "proportion.proportion_confint(count=8,nobs=13,alpha=0.01)"
   ]
  }
 ],
 "metadata": {
  "colab": {
   "collapsed_sections": [
    "06af1d83",
    "8d9b372f",
    "d66e6df2",
    "db931e70",
    "d2f91c98",
    "ebfd90df",
    "fe48b0f7",
    "75437147",
    "9390028c",
    "58dc10e7",
    "cb1c4dbf",
    "ff98776b",
    "740e4831",
    "75472414",
    "191fc577",
    "a8473571",
    "2548eeeb",
    "5a700524",
    "c5f4ee70"
   ],
   "provenance": []
  },
  "kernelspec": {
   "display_name": "Python 3 (ipykernel)",
   "language": "python",
   "name": "python3"
  },
  "language_info": {
   "codemirror_mode": {
    "name": "ipython",
    "version": 3
   },
   "file_extension": ".py",
   "mimetype": "text/x-python",
   "name": "python",
   "nbconvert_exporter": "python",
   "pygments_lexer": "ipython3",
   "version": "3.11.5"
  }
 },
 "nbformat": 4,
 "nbformat_minor": 5
}
